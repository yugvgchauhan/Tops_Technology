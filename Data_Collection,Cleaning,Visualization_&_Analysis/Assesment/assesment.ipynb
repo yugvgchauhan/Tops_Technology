{
 "cells": [
  {
   "cell_type": "markdown",
   "id": "c8f970bc",
   "metadata": {},
   "source": [
    "Q.1 Convert a 1D array to a 2D array with 2 rows "
   ]
  },
  {
   "cell_type": "code",
   "execution_count": 3,
   "id": "31006b1c",
   "metadata": {},
   "outputs": [
    {
     "name": "stdout",
     "output_type": "stream",
     "text": [
      "original array:: [1 2 3 4 5 6 7 8 9]\n",
      "2D array::\n",
      "[[1 2 3]\n",
      " [4 5 6]\n",
      " [7 8 9]]\n"
     ]
    }
   ],
   "source": [
    "import numpy as np\n",
    "arr1=np.array([1,2,3,4,5,6,7,8,9])\n",
    "arr2=arr1.reshape(3,3)\n",
    "print(\"original array::\",arr1)\n",
    "print(f\"2D array::\\n{arr2}\")"
   ]
  },
  {
   "cell_type": "markdown",
   "id": "53544e1e",
   "metadata": {},
   "source": [
    "Q.2 Get the common items between a and b\n",
    "Input:\n",
    "a = np.array([1,2,3,2,3,4,3,4,5,6])\n",
    "b = np.array([7,2,10,2,7,4,9,4,9,8])\n",
    "Desired Output:\n",
    "array([2, 4]) "
   ]
  },
  {
   "cell_type": "code",
   "execution_count": 17,
   "id": "53065e5e",
   "metadata": {},
   "outputs": [
    {
     "name": "stdout",
     "output_type": "stream",
     "text": [
      "[2 4]\n"
     ]
    }
   ],
   "source": [
    "a = np.array([1,2,3,2,3,4,3,4,5,6])\n",
    "b = np.array([7,2,10,2,7,4,9,4,9,8])\n",
    "\n",
    "common_num=np.intersect1d(a,b)\n",
    "print(common_num)"
   ]
  },
  {
   "cell_type": "markdown",
   "id": "f3837aac",
   "metadata": {},
   "source": [
    "Q.3 Get all items between 5 and 10 from a.\n",
    "Input:\n",
    "a = np.array([2, 6, 1, 9, 10, 3, 27])\n",
    "Desired Output:\n",
    "(array([6, 9, 10]),) \n"
   ]
  },
  {
   "cell_type": "code",
   "execution_count": 15,
   "id": "d549841d",
   "metadata": {},
   "outputs": [
    {
     "name": "stdout",
     "output_type": "stream",
     "text": [
      "(array([ 6,  9, 10]),)\n"
     ]
    }
   ],
   "source": [
    "a = np.array([2, 6, 1, 9, 10, 3, 27])\n",
    "result=(a[(a>5)&(a<=10)],)\n",
    "print(result)"
   ]
  },
  {
   "cell_type": "markdown",
   "id": "ed10610e",
   "metadata": {},
   "source": [
    "Q.4 Limit the number of items printed in python NumPy array a to a maximum of 6\n",
    "elements.\n",
    "Input:\n",
    "array([ 0, 1, 2, 3, 4, 5, 6, 7, 8, 9, 10, 11, 12, 13, 14])\n",
    "Desired Output:\n",
    "array([ 0, 1, 2, ..., 12, 13, 14]) "
   ]
  },
  {
   "cell_type": "code",
   "execution_count": 24,
   "id": "3d6f4831",
   "metadata": {},
   "outputs": [
    {
     "name": "stdout",
     "output_type": "stream",
     "text": [
      "[ 0  1  2 ... 12 13 14]\n"
     ]
    }
   ],
   "source": [
    "a = np.array([0, 1, 2, 3, 4, 5, 6, 7, 8, 9, 10, 11, 12, 13, 14])\n",
    "np.set_printoptions(threshold=6)\n",
    "print(a)"
   ]
  },
  {
   "cell_type": "markdown",
   "id": "5011542b",
   "metadata": {},
   "source": [
    "## PANDAS"
   ]
  },
  {
   "cell_type": "markdown",
   "id": "c8124209",
   "metadata": {},
   "source": [
    "1. Compute the minimum, 25th percentile, median, 75th, and maximum of ser. "
   ]
  },
  {
   "cell_type": "code",
   "execution_count": 30,
   "id": "6d1dff04",
   "metadata": {},
   "outputs": [
    {
     "name": "stdout",
     "output_type": "stream",
     "text": [
      "Minimum::0.039650765482097006\n",
      "25th percentile::0.22300066407322286\n",
      "median::0.4175266888896128\n",
      "75th percentile::0.688915042766802\n",
      "maximum::0.9682841344255879\n"
     ]
    }
   ],
   "source": [
    "import pandas as pd\n",
    "ser=pd.Series(np.random.rand(20))\n",
    "\n",
    "min=ser.min()\n",
    "q1=ser.quantile(0.25)\n",
    "med=ser.median()\n",
    "q3=ser.quantile(0.75)\n",
    "max=ser.max()\n",
    "\n",
    "print(f\"Minimum::{min}\")\n",
    "print(f\"25th percentile::{q1}\")\n",
    "print(f\"median::{med}\")\n",
    "print(f\"75th percentile::{q3}\")\n",
    "print(f\"maximum::{max}\")"
   ]
  },
  {
   "cell_type": "markdown",
   "id": "c7264ba7",
   "metadata": {},
   "source": [
    "2. Creating A Pandas Data Frame and Using Sample Data Sets "
   ]
  },
  {
   "cell_type": "code",
   "execution_count": 32,
   "id": "c894c26d",
   "metadata": {},
   "outputs": [
    {
     "name": "stdout",
     "output_type": "stream",
     "text": [
      "   EmployeeID     Name   Department  Salary  JoiningYear\n",
      "0         101    Alice           HR   70000         2012\n",
      "1         102      Bob  Engineering   85000         2015\n",
      "2         103  Charlie      Finance   80000         2018\n",
      "3         104    David    Marketing   60000         2020\n"
     ]
    }
   ],
   "source": [
    "data = {\n",
    "    'EmployeeID': [101, 102, 103, 104],\n",
    "    'Name': ['Alice', 'Bob', 'Charlie', 'David'],\n",
    "    'Department': ['HR', 'Engineering', 'Finance', 'Marketing'],\n",
    "    'Salary': [70000, 85000, 80000, 60000],\n",
    "    'JoiningYear': [2012, 2015, 2018, 2020]\n",
    "}\n",
    "\n",
    "df=pd.DataFrame(data)\n",
    "print(df)"
   ]
  },
  {
   "cell_type": "markdown",
   "id": "06bd50a5",
   "metadata": {},
   "source": [
    "3. Using NumPy, create a Pandas Data Frame with five rows and three columns. "
   ]
  },
  {
   "cell_type": "code",
   "execution_count": 34,
   "id": "ccc63692",
   "metadata": {},
   "outputs": [
    {
     "name": "stdout",
     "output_type": "stream",
     "text": [
      "    A   B   C\n",
      "0  20  32  19\n",
      "1  46  32  15\n",
      "2  22  25  33\n",
      "3  32  42  40\n",
      "4  17  18  33\n"
     ]
    }
   ],
   "source": [
    "data=np.random.randint(10,50,size=(5,3))\n",
    "columns=['A','B','C']\n",
    "df=pd.DataFrame(data,columns=columns)\n",
    "print(df)"
   ]
  },
  {
   "cell_type": "markdown",
   "id": "dff3e89c",
   "metadata": {},
   "source": [
    "4. For a Pandas Data Frame created from a NumPy array, what is the default behavior for\n",
    "the labels for the columns? For the rows? "
   ]
  },
  {
   "cell_type": "markdown",
   "id": "a4e6d00c",
   "metadata": {},
   "source": [
    "Columns: By default, columns are labeled with integers starting from 0 and increasing by 1(e.g., 0, 1, 2, ...).\n",
    "\n",
    "Rows (Index): Rows are also labeled with integers starting from 0 and increasing by 1(e.g., 0, 1, 2, ...)."
   ]
  },
  {
   "cell_type": "code",
   "execution_count": 36,
   "id": "247f4e64",
   "metadata": {},
   "outputs": [
    {
     "name": "stdout",
     "output_type": "stream",
     "text": [
      "   0  1  2\n",
      "0  1  2  3\n",
      "1  4  5  6\n"
     ]
    }
   ],
   "source": [
    "#example:\n",
    "data = np.array([[1, 2, 3],\n",
    "                 [4, 5, 6]])\n",
    "df = pd.DataFrame(data)\n",
    "print(df)"
   ]
  },
  {
   "cell_type": "markdown",
   "id": "f6290dda",
   "metadata": {},
   "source": [
    "5. take csv file contains at least 10,000 rows and 12 columns which numerical and text values\n",
    "according to that continue following steps. "
   ]
  },
  {
   "cell_type": "code",
   "execution_count": 37,
   "id": "e4631c88",
   "metadata": {},
   "outputs": [],
   "source": [
    "df=pd.read_csv('data.csv')"
   ]
  },
  {
   "cell_type": "markdown",
   "id": "35b9f284",
   "metadata": {},
   "source": [
    "6.Write the code to show the number of rows and columns in data frame. \n"
   ]
  },
  {
   "cell_type": "code",
   "execution_count": 39,
   "id": "787152bf",
   "metadata": {},
   "outputs": [
    {
     "name": "stdout",
     "output_type": "stream",
     "text": [
      "Rows::11914\n",
      "Columns::16\n"
     ]
    }
   ],
   "source": [
    "rows,columns=df.shape\n",
    "print(f\"Rows::{rows}\")\n",
    "print(f\"Columns::{columns}\")"
   ]
  },
  {
   "cell_type": "markdown",
   "id": "918dc5ce",
   "metadata": {},
   "source": [
    "7. How might you show the first few rows of data frame? "
   ]
  },
  {
   "cell_type": "code",
   "execution_count": 40,
   "id": "91974373",
   "metadata": {},
   "outputs": [
    {
     "data": {
      "text/html": [
       "<div>\n",
       "<style scoped>\n",
       "    .dataframe tbody tr th:only-of-type {\n",
       "        vertical-align: middle;\n",
       "    }\n",
       "\n",
       "    .dataframe tbody tr th {\n",
       "        vertical-align: top;\n",
       "    }\n",
       "\n",
       "    .dataframe thead th {\n",
       "        text-align: right;\n",
       "    }\n",
       "</style>\n",
       "<table border=\"1\" class=\"dataframe\">\n",
       "  <thead>\n",
       "    <tr style=\"text-align: right;\">\n",
       "      <th></th>\n",
       "      <th>Make</th>\n",
       "      <th>Model</th>\n",
       "      <th>Year</th>\n",
       "      <th>Engine Fuel Type</th>\n",
       "      <th>Engine HP</th>\n",
       "      <th>Engine Cylinders</th>\n",
       "      <th>Transmission Type</th>\n",
       "      <th>Driven_Wheels</th>\n",
       "      <th>Number of Doors</th>\n",
       "      <th>Market Category</th>\n",
       "      <th>Vehicle Size</th>\n",
       "      <th>Vehicle Style</th>\n",
       "      <th>highway MPG</th>\n",
       "      <th>city mpg</th>\n",
       "      <th>Popularity</th>\n",
       "      <th>MSRP</th>\n",
       "    </tr>\n",
       "  </thead>\n",
       "  <tbody>\n",
       "    <tr>\n",
       "      <th>0</th>\n",
       "      <td>BMW</td>\n",
       "      <td>1 Series M</td>\n",
       "      <td>2011</td>\n",
       "      <td>premium unleaded (required)</td>\n",
       "      <td>335.0</td>\n",
       "      <td>6.0</td>\n",
       "      <td>MANUAL</td>\n",
       "      <td>rear wheel drive</td>\n",
       "      <td>2.0</td>\n",
       "      <td>Factory Tuner,Luxury,High-Performance</td>\n",
       "      <td>Compact</td>\n",
       "      <td>Coupe</td>\n",
       "      <td>26</td>\n",
       "      <td>19</td>\n",
       "      <td>3916</td>\n",
       "      <td>46135</td>\n",
       "    </tr>\n",
       "    <tr>\n",
       "      <th>1</th>\n",
       "      <td>BMW</td>\n",
       "      <td>1 Series</td>\n",
       "      <td>2011</td>\n",
       "      <td>premium unleaded (required)</td>\n",
       "      <td>300.0</td>\n",
       "      <td>6.0</td>\n",
       "      <td>MANUAL</td>\n",
       "      <td>rear wheel drive</td>\n",
       "      <td>2.0</td>\n",
       "      <td>Luxury,Performance</td>\n",
       "      <td>Compact</td>\n",
       "      <td>Convertible</td>\n",
       "      <td>28</td>\n",
       "      <td>19</td>\n",
       "      <td>3916</td>\n",
       "      <td>40650</td>\n",
       "    </tr>\n",
       "    <tr>\n",
       "      <th>2</th>\n",
       "      <td>BMW</td>\n",
       "      <td>1 Series</td>\n",
       "      <td>2011</td>\n",
       "      <td>premium unleaded (required)</td>\n",
       "      <td>300.0</td>\n",
       "      <td>6.0</td>\n",
       "      <td>MANUAL</td>\n",
       "      <td>rear wheel drive</td>\n",
       "      <td>2.0</td>\n",
       "      <td>Luxury,High-Performance</td>\n",
       "      <td>Compact</td>\n",
       "      <td>Coupe</td>\n",
       "      <td>28</td>\n",
       "      <td>20</td>\n",
       "      <td>3916</td>\n",
       "      <td>36350</td>\n",
       "    </tr>\n",
       "    <tr>\n",
       "      <th>3</th>\n",
       "      <td>BMW</td>\n",
       "      <td>1 Series</td>\n",
       "      <td>2011</td>\n",
       "      <td>premium unleaded (required)</td>\n",
       "      <td>230.0</td>\n",
       "      <td>6.0</td>\n",
       "      <td>MANUAL</td>\n",
       "      <td>rear wheel drive</td>\n",
       "      <td>2.0</td>\n",
       "      <td>Luxury,Performance</td>\n",
       "      <td>Compact</td>\n",
       "      <td>Coupe</td>\n",
       "      <td>28</td>\n",
       "      <td>18</td>\n",
       "      <td>3916</td>\n",
       "      <td>29450</td>\n",
       "    </tr>\n",
       "    <tr>\n",
       "      <th>4</th>\n",
       "      <td>BMW</td>\n",
       "      <td>1 Series</td>\n",
       "      <td>2011</td>\n",
       "      <td>premium unleaded (required)</td>\n",
       "      <td>230.0</td>\n",
       "      <td>6.0</td>\n",
       "      <td>MANUAL</td>\n",
       "      <td>rear wheel drive</td>\n",
       "      <td>2.0</td>\n",
       "      <td>Luxury</td>\n",
       "      <td>Compact</td>\n",
       "      <td>Convertible</td>\n",
       "      <td>28</td>\n",
       "      <td>18</td>\n",
       "      <td>3916</td>\n",
       "      <td>34500</td>\n",
       "    </tr>\n",
       "  </tbody>\n",
       "</table>\n",
       "</div>"
      ],
      "text/plain": [
       "  Make       Model  Year             Engine Fuel Type  Engine HP  \\\n",
       "0  BMW  1 Series M  2011  premium unleaded (required)      335.0   \n",
       "1  BMW    1 Series  2011  premium unleaded (required)      300.0   \n",
       "2  BMW    1 Series  2011  premium unleaded (required)      300.0   \n",
       "3  BMW    1 Series  2011  premium unleaded (required)      230.0   \n",
       "4  BMW    1 Series  2011  premium unleaded (required)      230.0   \n",
       "\n",
       "   Engine Cylinders Transmission Type     Driven_Wheels  Number of Doors  \\\n",
       "0               6.0            MANUAL  rear wheel drive              2.0   \n",
       "1               6.0            MANUAL  rear wheel drive              2.0   \n",
       "2               6.0            MANUAL  rear wheel drive              2.0   \n",
       "3               6.0            MANUAL  rear wheel drive              2.0   \n",
       "4               6.0            MANUAL  rear wheel drive              2.0   \n",
       "\n",
       "                         Market Category Vehicle Size Vehicle Style  \\\n",
       "0  Factory Tuner,Luxury,High-Performance      Compact         Coupe   \n",
       "1                     Luxury,Performance      Compact   Convertible   \n",
       "2                Luxury,High-Performance      Compact         Coupe   \n",
       "3                     Luxury,Performance      Compact         Coupe   \n",
       "4                                 Luxury      Compact   Convertible   \n",
       "\n",
       "   highway MPG  city mpg  Popularity   MSRP  \n",
       "0           26        19        3916  46135  \n",
       "1           28        19        3916  40650  \n",
       "2           28        20        3916  36350  \n",
       "3           28        18        3916  29450  \n",
       "4           28        18        3916  34500  "
      ]
     },
     "execution_count": 40,
     "metadata": {},
     "output_type": "execute_result"
    }
   ],
   "source": [
    "df.head()"
   ]
  },
  {
   "cell_type": "markdown",
   "id": "c8437795",
   "metadata": {},
   "source": [
    "8. If you select a single column from the diamonds Data Frame, what will be the type of the\n",
    "return value? \n"
   ]
  },
  {
   "cell_type": "markdown",
   "id": "f4956af9",
   "metadata": {},
   "source": [
    "When you select a single column from the diamonds DataFrame, the return type is a Pandas Series. A Series is a one-dimensional labeled array holding data of a single column.\n",
    "If you select the column using double brackets like diamonds[['carat']], the return type will be a DataFrame instead."
   ]
  },
  {
   "cell_type": "code",
   "execution_count": 42,
   "id": "acfb6880",
   "metadata": {},
   "outputs": [
    {
     "name": "stdout",
     "output_type": "stream",
     "text": [
      "<class 'pandas.core.series.Series'>\n",
      "<class 'pandas.core.frame.DataFrame'>\n"
     ]
    }
   ],
   "source": [
    "#example\n",
    "single_column=df[\"Model\"]\n",
    "print(type(single_column))\n",
    "\n",
    "single_col_df= df[[\"Model\"]]\n",
    "print(type(single_col_df))"
   ]
  },
  {
   "cell_type": "markdown",
   "id": "f888dcfe",
   "metadata": {},
   "source": [
    "9. Create a line plot using the x and y values provided below. Label the y-axis as “Y” and\n",
    "label the x-axis as “X”.\n",
    "x = [3, 4, 5, 6]\n",
    "y = [1.5, 2, 2.5, 3] "
   ]
  },
  {
   "cell_type": "code",
   "execution_count": 43,
   "id": "0689e21c",
   "metadata": {},
   "outputs": [
    {
     "data": {
      "image/png": "[encoded data removed]",
      "text/plain": [
       "<Figure size 640x480 with 1 Axes>"
      ]
     },
     "metadata": {},
     "output_type": "display_data"
    }
   ],
   "source": [
    "import matplotlib.pyplot as plt\n",
    "x = [3, 4, 5, 6]\n",
    "y = [1.5, 2, 2.5, 3]\n",
    "\n",
    "plt.plot(x,y)\n",
    "plt.title(\"line plot of x vs y\")\n",
    "plt.xlabel(\"X\")\n",
    "plt.ylabel(\"Y\")\n",
    "plt.show()"
   ]
  },
  {
   "cell_type": "markdown",
   "id": "86cd3e83",
   "metadata": {},
   "source": [
    "10. Create an array of numbers between 0 and 6 with increments of 0.3 and name its “x”.\n",
    "Then on the same plot, plot x, x², x³, and x⁴. For consistency, use the following style lines\n",
    "respectively, “ro”, “bs”, “g”, and “:”. Lastly, make sure that the x-axis covers 0 to 6, while\n",
    "the y-axis spans from 0 to 125. Do not worry if you are not familiar with the style lines —\n",
    "you will recognize them as soon as you see the plot. "
   ]
  },
  {
   "cell_type": "code",
   "execution_count": 51,
   "id": "ef6fe24f",
   "metadata": {},
   "outputs": [
    {
     "data": {
      "image/png": "[encoded data removed]",
      "text/plain": [
       "<Figure size 640x480 with 1 Axes>"
      ]
     },
     "metadata": {},
     "output_type": "display_data"
    }
   ],
   "source": [
    "x=np.arange(0,6.3,0.3)#6.3 beacuse it incluse 6 exactly\n",
    "\n",
    "x2=x**2\n",
    "x3=x**3\n",
    "x4=x**4\n",
    "\n",
    "plt.plot(x,x,'ro',label=\"x(ro)\")\n",
    "plt.plot(x,x2,'bs',label=\"x^2(bs)\")\n",
    "plt.plot(x,x3,'g',label=\"x^3(g)\")\n",
    "plt.plot(x,x4,':',label=\"x^4(y)\")\n",
    "\n",
    "plt.title(\"Multiple line plot\")\n",
    "plt.xlabel(\"X-axis\")\n",
    "plt.ylabel(\"Y-axis\")\n",
    "\n",
    "plt.xlim(0,6)\n",
    "plt.ylim(0,125)\n",
    "plt.legend()\n",
    "plt.show()"
   ]
  },
  {
   "cell_type": "markdown",
   "id": "520adef7",
   "metadata": {},
   "source": [
    " 11. Heights and initials of a group of individuals are provided below. Create a bar plot titled\n",
    "“Height Comparison” to compare the heights among this group.\n",
    "height = [179, 155, 191, 152, 188, 177]\n",
    "names = ['QA', 'WB', 'EC', 'RD', 'TE', 'YF'] \n"
   ]
  },
  {
   "cell_type": "code",
   "execution_count": 52,
   "id": "2649905a",
   "metadata": {},
   "outputs": [
    {
     "data": {
      "image/png": "[encoded data removed]",
      "text/plain": [
       "<Figure size 640x480 with 1 Axes>"
      ]
     },
     "metadata": {},
     "output_type": "display_data"
    }
   ],
   "source": [
    "height = [179, 155, 191, 152, 188, 177]\n",
    "names = ['QA', 'WB', 'EC', 'RD', 'TE', 'YF']\n",
    "\n",
    "plt.bar(names,height)\n",
    "plt.title('Height Comparison')\n",
    "plt.xlabel('Individuals')\n",
    "plt.ylabel('Height')\n",
    "plt.show()\n"
   ]
  },
  {
   "cell_type": "markdown",
   "id": "ce716738",
   "metadata": {},
   "source": [
    "12. Plot a histogram of x, where x consists of 100,000 randomly-selected points with a normal\n",
    "distribution (hint: you can use numpy.random.randn() to generate the random points). The\n",
    "histogram should have 10 bins. Look at how the histogram changes when we try 20 and 50\n",
    "bins. \n"
   ]
  },
  {
   "cell_type": "code",
   "execution_count": 58,
   "id": "0bb81dd7",
   "metadata": {},
   "outputs": [
    {
     "data": {
      "image/png": "[encoded data removed]",
      "text/plain": [
       "<Figure size 1500x400 with 3 Axes>"
      ]
     },
     "metadata": {},
     "output_type": "display_data"
    }
   ],
   "source": [
    "#Generate 100,000 random points with normal distribution\n",
    "x=np.random.randn(100000)\n",
    "\n",
    "plt.figure(figsize=(15,4))\n",
    "\n",
    "plt.subplot(1, 3, 1)\n",
    "plt.hist(x,bins=10,color='skyblue',edgecolor='black')\n",
    "plt.title('Histogram with 10 bins')\n",
    "\n",
    "# Plot histogram with 20 bins\n",
    "plt.subplot(1, 3, 2)\n",
    "plt.hist(x,bins=20,color='lightgreen',edgecolor='black')\n",
    "plt.title('Histogram with 20 bins')\n",
    "\n",
    "# Plot histogram with 50 bins\n",
    "plt.subplot(1, 3, 3)\n",
    "plt.hist(x,bins=50,color='salmon',edgecolor='black')\n",
    "plt.title('Histogram with 50 bins')\n",
    "\n",
    "plt.tight_layout()\n",
    "plt.show()\n"
   ]
  },
  {
   "cell_type": "markdown",
   "id": "ade716e6",
   "metadata": {},
   "source": [
    "13. What are the features of TensorFlow? "
   ]
  },
  {
   "cell_type": "markdown",
   "id": "bb795f17",
   "metadata": {},
   "source": [
    "Open source and free to use\n",
    "\n",
    "Supports CPU, GPU, and TPU for fast computation\n",
    "\n",
    "Works on multiple platforms (desktop, mobile, cloud)\n",
    "\n",
    "Has high-level APIs like Keras for easy model building\n",
    "\n",
    "Automatic differentiation for gradient calculation\n",
    "\n",
    "Includes tools like TensorBoard for visualization\n",
    "\n",
    "Provides pre-trained models and supports transfer learning\n",
    "\n",
    "Supports distributed training for scalability\n",
    "\n",
    "Can deploy models in production environments"
   ]
  },
  {
   "cell_type": "markdown",
   "id": "9ba239eb",
   "metadata": {},
   "source": [
    "14. List a few limitations of TensorFlow. "
   ]
  },
  {
   "cell_type": "markdown",
   "id": "8c57561c",
   "metadata": {},
   "source": [
    "Steep Learning Curve: Can be complex for beginners to learn and use effectively.\n",
    "\n",
    "Verbose Syntax: Some operations require more code compared to other frameworks like PyTorch.\n",
    "\n",
    "Debugging Difficulty: Debugging can be challenging because of the computation graph model.\n",
    "\n",
    "Limited Dynamic Computation: Earlier versions lacked dynamic graph support (improved in TF 2.x, but still less intuitive than some alternatives).\n",
    "\n",
    "Heavy Library: TensorFlow can be large and resource-intensive, which might not be ideal for lightweight applications.\n",
    "\n",
    "Less Pythonic: Compared to PyTorch, TensorFlow code can feel less natural for Python developers.\n",
    "\n",
    "Backward Compatibility Issues: Some updates have broken backward compatibility, causing migration challenges."
   ]
  },
  {
   "cell_type": "markdown",
   "id": "a15c3cbb",
   "metadata": {},
   "source": [
    "15. What do you know about supervised and unsupervised machine learning? "
   ]
  },
  {
   "cell_type": "markdown",
   "id": "df83d496",
   "metadata": {},
   "source": [
    "Supervised Learning:\n",
    "In supervised learning, the model is trained on a labeled dataset, where each input has a known corresponding output (target). The model learns to predict or classify the output from the input data. It is commonly used for tasks like classification and regression.\n",
    "\n",
    "Example: Predicting whether an email is spam or not (classification), or forecasting house prices (regression).\n",
    "\n",
    "Unsupervised Learning:\n",
    "Unsupervised learning deals with unlabeled data, where the model tries to identify patterns or structures without any given output labels. It is used for tasks such as clustering and dimensionality reduction.\n",
    "\n",
    "Example: Grouping customers into segments based on purchasing behavior (clustering), or reducing data dimensions for visualization (PCA)."
   ]
  }
 ],
 "metadata": {
  "kernelspec": {
   "display_name": "Python 3",
   "language": "python",
   "name": "python3"
  },
  "language_info": {
   "codemirror_mode": {
    "name": "ipython",
    "version": 3
   },
   "file_extension": ".py",
   "mimetype": "text/x-python",
   "name": "python",
   "nbconvert_exporter": "python",
   "pygments_lexer": "ipython3",
   "version": "3.11.4"
  }
 },
 "nbformat": 4,
 "nbformat_minor": 5
}
