{
 "cells": [
  {
   "cell_type": "markdown",
   "metadata": {},
   "source": [
    "4) Write a Python program to check if a number is positive, negative or\n",
    "zero. \n",
    "\n"
   ]
  },
  {
   "cell_type": "code",
   "execution_count": 1,
   "metadata": {},
   "outputs": [
    {
     "name": "stdout",
     "output_type": "stream",
     "text": [
      "The number is positive\n"
     ]
    }
   ],
   "source": [
    "number = int(input(\"Enter a number: \"))\n",
    "\n",
    "if number > 0:\n",
    "    print(\"The number is positive\")\n",
    "elif number < 0:\n",
    "    print(\"The number is negative\")\n",
    "else:\n",
    "    print(\"The number is zero\")\n"
   ]
  },
  {
   "cell_type": "markdown",
   "metadata": {},
   "source": [
    "5)Write a Python program to get the Factorial number of given numbers. \n"
   ]
  },
  {
   "cell_type": "code",
   "execution_count": 2,
   "metadata": {},
   "outputs": [
    {
     "name": "stdout",
     "output_type": "stream",
     "text": [
      "Factorial of 4 is 24\n"
     ]
    }
   ],
   "source": [
    "n = int(input(\"Enter a number: \"))\n",
    "f = 1\n",
    "\n",
    "if n < 0:\n",
    "    print(\"No factorial for negative\")\n",
    "elif n == 0:\n",
    "    print(\"Factorial of 0 is 1\")\n",
    "else:\n",
    "    for i in range(1, n + 1):\n",
    "        f = f * i\n",
    "    print(\"Factorial of\", n, \"is\", f)\n"
   ]
  },
  {
   "cell_type": "markdown",
   "metadata": {},
   "source": [
    "6)Write a Python program to get the Fibonacci series of given range. \n"
   ]
  },
  {
   "cell_type": "code",
   "execution_count": 3,
   "metadata": {},
   "outputs": [
    {
     "name": "stdout",
     "output_type": "stream",
     "text": [
      "Fibonacci series:\n",
      "0 1 1 2 3 "
     ]
    }
   ],
   "source": [
    "r = int(input(\"Enter range: \"))\n",
    "a, b = 0, 1\n",
    "\n",
    "print(\"Fibonacci series:\")\n",
    "for _ in range(r):\n",
    "    print(a, end=\" \")\n",
    "    a, b = b, a + b\n"
   ]
  },
  {
   "cell_type": "markdown",
   "metadata": {},
   "source": [
    "9) Write python program that swap two number with temp variable\n",
    "and without temp variable. "
   ]
  },
  {
   "cell_type": "code",
   "execution_count": 4,
   "metadata": {},
   "outputs": [
    {
     "name": "stdout",
     "output_type": "stream",
     "text": [
      "After swapping without temp variable: x = 4 , y = 3\n"
     ]
    }
   ],
   "source": [
    "x = int(input(\"Enter first number again: \"))\n",
    "y = int(input(\"Enter second number again: \"))\n",
    "\n",
    "x = x + y\n",
    "y = x - y\n",
    "x = x - y\n",
    "print(\"After swapping without temp variable: x =\", x, \", y =\", y)"
   ]
  },
  {
   "cell_type": "markdown",
   "metadata": {},
   "source": [
    "10) Write a Python program to find whether a given number is even\n",
    "or odd, print out an appropriate message to the user. \n"
   ]
  },
  {
   "cell_type": "code",
   "execution_count": 5,
   "metadata": {},
   "outputs": [
    {
     "name": "stdout",
     "output_type": "stream",
     "text": [
      "5 is odd\n"
     ]
    }
   ],
   "source": [
    "num = int(input(\"Enter a number: \"))\n",
    "\n",
    "if num % 2 == 0:\n",
    "    print(num, \"is even\")\n",
    "else:\n",
    "    print(num, \"is odd\")"
   ]
  },
  {
   "cell_type": "markdown",
   "metadata": {},
   "source": [
    "11) Write a Python program to test whether a passed letter is a vowel\n",
    "or not. \n"
   ]
  },
  {
   "cell_type": "code",
   "execution_count": 9,
   "metadata": {},
   "outputs": [
    {
     "name": "stdout",
     "output_type": "stream",
     "text": [
      "x is not a vowel\n"
     ]
    }
   ],
   "source": [
    "letter = input(\"Enter a letter: \")\n",
    "\n",
    "if letter in \"AEIOUaeiou\":\n",
    "    print(letter, \"is a vowel\")\n",
    "else:\n",
    "    print(letter, \"is not a vowel\")\n"
   ]
  },
  {
   "cell_type": "markdown",
   "metadata": {},
   "source": [
    "12) Write a Python program to sum of three given integers. However, if\n",
    "two values are equal sum will be zero. \n"
   ]
  },
  {
   "cell_type": "code",
   "execution_count": 10,
   "metadata": {},
   "outputs": [
    {
     "name": "stdout",
     "output_type": "stream",
     "text": [
      "The result is: 3\n"
     ]
    }
   ],
   "source": [
    "a = int(input(\"Enter first number: \"))\n",
    "b = int(input(\"Enter second number: \"))\n",
    "c = int(input(\"Enter third number: \"))\n",
    "\n",
    "if a == b or b == c or a == c:\n",
    "    s = 0\n",
    "else:\n",
    "    s = a + b + c\n",
    "\n",
    "print(\"The result is:\", s)\n"
   ]
  },
  {
   "cell_type": "markdown",
   "metadata": {},
   "source": [
    "13) Write a Python program that will return true if the two given\n",
    "integer values are equal or their sum or difference is 5. \n"
   ]
  },
  {
   "cell_type": "code",
   "execution_count": 11,
   "metadata": {},
   "outputs": [
    {
     "name": "stdout",
     "output_type": "stream",
     "text": [
      "True\n"
     ]
    }
   ],
   "source": [
    "x = int(input(\"Enter first number: \"))\n",
    "y = int(input(\"Enter second number: \"))\n",
    "\n",
    "if x == y or x + y == 5 or abs(x - y) == 5:\n",
    "    print(\"True\")\n",
    "else:\n",
    "    print(\"False\")\n"
   ]
  },
  {
   "cell_type": "markdown",
   "metadata": {},
   "source": [
    "14)Write a python program to sum of the first n positive integers. "
   ]
  },
  {
   "cell_type": "code",
   "execution_count": 12,
   "metadata": {},
   "outputs": [
    {
     "name": "stdout",
     "output_type": "stream",
     "text": [
      "The sum of the first 3 positive integers is: 6\n"
     ]
    }
   ],
   "source": [
    "n = int(input(\"Enter a number: \"))\n",
    "total = 0\n",
    "\n",
    "for i in range(1, n + 1):\n",
    "    total += i\n",
    "\n",
    "print(\"The sum of the first\", n, \"positive integers is:\", total)\n"
   ]
  },
  {
   "cell_type": "markdown",
   "metadata": {},
   "source": [
    "15)Write a Python program to calculate the length of a string. \n"
   ]
  },
  {
   "cell_type": "code",
   "execution_count": 13,
   "metadata": {},
   "outputs": [
    {
     "name": "stdout",
     "output_type": "stream",
     "text": [
      "The length of the string is: 3\n"
     ]
    }
   ],
   "source": [
    "s = input(\"Enter a string: \")\n",
    "length = len(s)\n",
    "print(\"The length of the string is:\", length)\n"
   ]
  },
  {
   "cell_type": "markdown",
   "metadata": {},
   "source": [
    "16) Write a Python program to count the number of characters\n",
    "(character frequency) in a string \n"
   ]
  },
  {
   "cell_type": "code",
   "execution_count": 15,
   "metadata": {},
   "outputs": [
    {
     "name": "stdout",
     "output_type": "stream",
     "text": [
      "Character frequency: {'y': 2, 'g': 1}\n"
     ]
    }
   ],
   "source": [
    "s = input(\"Enter a string: \")\n",
    "freq = {}\n",
    "\n",
    "for char in s:\n",
    "    if char in freq:\n",
    "        freq[char] += 1\n",
    "    else:\n",
    "        freq[char] = 1\n",
    "\n",
    "print(\"Character frequency:\", freq)\n"
   ]
  },
  {
   "cell_type": "markdown",
   "metadata": {},
   "source": [
    "18)Write a Python program to count occurrences of a substring in a string"
   ]
  },
  {
   "cell_type": "code",
   "execution_count": 16,
   "metadata": {},
   "outputs": [
    {
     "name": "stdout",
     "output_type": "stream",
     "text": [
      "The substring occurs 2 times.\n"
     ]
    }
   ],
   "source": [
    "s = input(\"Enter a string: \")\n",
    "substring = input(\"Enter the substring to count: \")\n",
    "\n",
    "count = s.count(substring)\n",
    "print(\"The substring occurs\", count, \"times.\")\n"
   ]
  },
  {
   "cell_type": "markdown",
   "metadata": {},
   "source": [
    "19) Write a Python program to count the occurrences of each word in a "
   ]
  },
  {
   "cell_type": "code",
   "execution_count": 18,
   "metadata": {},
   "outputs": [
    {
     "name": "stdout",
     "output_type": "stream",
     "text": [
      "Word occurrences: {'yug': 2, 'vh': 1}\n"
     ]
    }
   ],
   "source": [
    "s = input(\"Enter a string: \")\n",
    "words = s.split()\n",
    "word_count = {}\n",
    "\n",
    "for word in words:\n",
    "    if word in word_count:\n",
    "        word_count[word] += 1\n",
    "    else:\n",
    "        word_count[word] = 1\n",
    "\n",
    "print(\"Word occurrences:\", word_count)\n"
   ]
  },
  {
   "cell_type": "markdown",
   "metadata": {},
   "source": [
    "20) Write a Python program to get a single string from two given strings,\n",
    "separated by a space and swap the first two characters of each string. \n"
   ]
  },
  {
   "cell_type": "code",
   "execution_count": 19,
   "metadata": {},
   "outputs": [
    {
     "name": "stdout",
     "output_type": "stream",
     "text": [
      "Resulting string: ghg chauhan yuanshyam\n"
     ]
    }
   ],
   "source": [
    "s1 = input(\"Enter first string: \")\n",
    "s2 = input(\"Enter second string: \")\n",
    "\n",
    "new_s1 = s2[:2] + s1[2:]\n",
    "new_s2 = s1[:2] + s2[2:]\n",
    "\n",
    "result = new_s1 + \" \" + new_s2\n",
    "print(\"Resulting string:\", result)\n"
   ]
  },
  {
   "cell_type": "markdown",
   "metadata": {},
   "source": [
    "21) Write a Python program to add 'in' at the end of a given string (length\n",
    "should be at least 3). If the given string already ends with 'ing' then\n",
    "add 'ly' instead if the string length of the given string is less than 3,\n",
    "leave it unchanged. "
   ]
  },
  {
   "cell_type": "code",
   "execution_count": 21,
   "metadata": {},
   "outputs": [
    {
     "name": "stdout",
     "output_type": "stream",
     "text": [
      "Modified string: runningly\n"
     ]
    }
   ],
   "source": [
    "s = input(\"Enter a string: \")\n",
    "\n",
    "if len(s) >= 3:\n",
    "    if s.endswith(\"ing\"):\n",
    "        s += \"ly\"\n",
    "    else:\n",
    "        s += \"in\"\n",
    "        \n",
    "print(\"Modified string:\", s)\n"
   ]
  },
  {
   "cell_type": "markdown",
   "metadata": {},
   "source": [
    "22) Write a Python function to reverses a string if its length is a multiple\n",
    "of 4. \n"
   ]
  },
  {
   "cell_type": "code",
   "execution_count": 22,
   "metadata": {},
   "outputs": [
    {
     "name": "stdout",
     "output_type": "stream",
     "text": [
      "Resulting string: cguy\n"
     ]
    }
   ],
   "source": [
    "def reverse_if_multiple_of_4(s):\n",
    "    if len(s) % 4 == 0:\n",
    "        return s[::-1]\n",
    "    else:\n",
    "        return s\n",
    "\n",
    "s = input(\"Enter a string: \")\n",
    "result = reverse_if_multiple_of_4(s)\n",
    "print(\"Resulting string:\", result)\n"
   ]
  },
  {
   "cell_type": "markdown",
   "metadata": {},
   "source": [
    "23) Write a Python program to get a string made of the first 2 and the last\n",
    "2 chars from a given a string. If the string length is less than 2, return\n",
    "instead of the empty string"
   ]
  },
  {
   "cell_type": "code",
   "execution_count": 23,
   "metadata": {},
   "outputs": [
    {
     "name": "stdout",
     "output_type": "stream",
     "text": [
      "Resulting string: fgeg\n"
     ]
    }
   ],
   "source": [
    "s = input(\"Enter a string: \")\n",
    "\n",
    "if len(s) < 2:\n",
    "    print(\"\")\n",
    "else:\n",
    "    result = s[:2] + s[-2:]\n",
    "    print(\"Resulting string:\", result)\n"
   ]
  },
  {
   "cell_type": "markdown",
   "metadata": {},
   "source": [
    "24)Write a Python function to insert a string in the middle of a string. \n"
   ]
  },
  {
   "cell_type": "code",
   "execution_count": 24,
   "metadata": {},
   "outputs": [
    {
     "name": "stdout",
     "output_type": "stream",
     "text": [
      "Resulting string: ychauhanug\n"
     ]
    }
   ],
   "source": [
    "def insert_in_middle(s1, s2):\n",
    "    middle = len(s1) // 2\n",
    "    return s1[:middle] + s2 + s1[middle:]\n",
    "\n",
    "s1 = input(\"Enter the first string: \")\n",
    "s2 = input(\"Enter the string to insert: \")\n",
    "result = insert_in_middle(s1, s2)\n",
    "print(\"Resulting string:\", result)\n"
   ]
  },
  {
   "cell_type": "markdown",
   "metadata": {},
   "source": [
    "29) Write a Python function to get the largest number, smallest num\n",
    "and sum of all from a list. "
   ]
  },
  {
   "cell_type": "code",
   "execution_count": 30,
   "metadata": {},
   "outputs": [
    {
     "name": "stdout",
     "output_type": "stream",
     "text": [
      "Largest: 40\n",
      "Smallest: 5\n",
      "Sum: 90\n"
     ]
    }
   ],
   "source": [
    "def analyze_numbers(numbers):\n",
    "    largest = max(numbers)\n",
    "    smallest = min(numbers)\n",
    "    total_sum = sum(numbers)\n",
    "    return largest, smallest, total_sum\n",
    "\n",
    "num_list = [10, 20, 5, 40, 15]\n",
    "largest, smallest, total_sum = analyze_numbers(num_list)\n",
    "\n",
    "print(\"Largest:\", largest)\n",
    "print(\"Smallest:\", smallest)\n",
    "print(\"Sum:\", total_sum)\n"
   ]
  },
  {
   "cell_type": "markdown",
   "metadata": {},
   "source": [
    "31) Write a Python program to count the number of strings where the string\n",
    "length is 2 or more and the first and last character are same from a given list\n",
    "of strings. \n"
   ]
  },
  {
   "cell_type": "code",
   "execution_count": 32,
   "metadata": {},
   "outputs": [
    {
     "name": "stdout",
     "output_type": "stream",
     "text": [
      "Count: 1\n"
     ]
    }
   ],
   "source": [
    "def count_same_first_last(strings):\n",
    "    count = 0\n",
    "    for s in strings:\n",
    "        if len(s) >= 2 and s[0] == s[-1]:\n",
    "            count += 1\n",
    "    return count\n",
    "\n",
    "strings = input(\"Enter strings separated by space: \").split()\n",
    "result = count_same_first_last(strings)\n",
    "print(\"Count:\", result)\n"
   ]
  },
  {
   "cell_type": "markdown",
   "metadata": {},
   "source": [
    "32)Write a Python program to remove duplicates from a list. \n"
   ]
  },
  {
   "cell_type": "code",
   "execution_count": 33,
   "metadata": {},
   "outputs": [
    {
     "name": "stdout",
     "output_type": "stream",
     "text": [
      "List without duplicates: [1, 2, 3, 4, 5, 6, 7]\n"
     ]
    }
   ],
   "source": [
    "lst = [1, 2, 3, 4, 4, 5, 6, 7, 7]\n",
    "lst = list(set(lst))\n",
    "print(\"List without duplicates:\", lst)\n"
   ]
  },
  {
   "cell_type": "markdown",
   "metadata": {},
   "source": [
    "33)Write a Python program to check a list is empty or not. "
   ]
  },
  {
   "cell_type": "code",
   "execution_count": 35,
   "metadata": {},
   "outputs": [
    {
     "name": "stdout",
     "output_type": "stream",
     "text": [
      "The list is not empty\n"
     ]
    }
   ],
   "source": [
    "lst = [1,2,3]\n",
    "\n",
    "if not lst:\n",
    "    print(\"The list is empty\")\n",
    "else:\n",
    "    print(\"The list is not empty\")\n"
   ]
  },
  {
   "cell_type": "markdown",
   "metadata": {},
   "source": [
    "34) Write a Python function that takes two lists and returns true if they\n",
    "have at least one common member. \n"
   ]
  },
  {
   "cell_type": "code",
   "execution_count": 36,
   "metadata": {},
   "outputs": [
    {
     "name": "stdout",
     "output_type": "stream",
     "text": [
      "True\n"
     ]
    }
   ],
   "source": [
    "def have_common_member(lst1, lst2):\n",
    "    return bool(set(lst1) & set(lst2))\n",
    "\n",
    "lst1 = [1, 2, 3]\n",
    "lst2 = [3, 4, 5]\n",
    "\n",
    "result = have_common_member(lst1, lst2)\n",
    "print(result)\n"
   ]
  },
  {
   "cell_type": "markdown",
   "metadata": {},
   "source": [
    "35) Write a Python program to generate and print a list of first and last 5\n",
    "elements where the values are square of numbers between 1 and 30. "
   ]
  },
  {
   "cell_type": "code",
   "execution_count": 42,
   "metadata": {},
   "outputs": [
    {
     "name": "stdout",
     "output_type": "stream",
     "text": [
      "First and last 5 elements: [1, 4, 9, 16, 25, 676, 729, 784, 841, 900]\n"
     ]
    }
   ],
   "source": [
    "lst = [x**2 for x in range(1, 31)]\n",
    "result = lst[:5] + lst[-5:]\n",
    "print(\"First and last 5 elements:\", result)\n"
   ]
  },
  {
   "cell_type": "markdown",
   "metadata": {},
   "source": [
    "36) Write a Python function that takes a list and returns a new list with\n",
    "unique elements of the first list. "
   ]
  },
  {
   "cell_type": "code",
   "execution_count": 43,
   "metadata": {},
   "outputs": [
    {
     "name": "stdout",
     "output_type": "stream",
     "text": [
      "List with unique elements: [1, 2, 3, 4, 5]\n"
     ]
    }
   ],
   "source": [
    "def unique_elements(lst):\n",
    "    return list(set(lst))\n",
    "\n",
    "lst = [1, 2, 2, 3, 4, 4, 5]\n",
    "result = unique_elements(lst)\n",
    "print(\"List with unique elements:\", result)\n",
    "\n"
   ]
  },
  {
   "cell_type": "markdown",
   "metadata": {},
   "source": [
    "37)Write a Python program to convert a list of characters into a string. \n"
   ]
  },
  {
   "cell_type": "code",
   "execution_count": 44,
   "metadata": {},
   "outputs": [
    {
     "name": "stdout",
     "output_type": "stream",
     "text": [
      "Converted string: Python\n"
     ]
    }
   ],
   "source": [
    "lst = ['P', 'y', 't', 'h', 'o', 'n']\n",
    "result = ''.join(lst)\n",
    "print(\"Converted string:\", result)\n"
   ]
  },
  {
   "cell_type": "markdown",
   "metadata": {},
   "source": [
    "38)Write a Python program to select an item randomly from a list"
   ]
  },
  {
   "cell_type": "code",
   "execution_count": 46,
   "metadata": {},
   "outputs": [
    {
     "name": "stdout",
     "output_type": "stream",
     "text": [
      "Randomly selected item: 1\n"
     ]
    }
   ],
   "source": [
    "import random\n",
    "\n",
    "lst = [1, 2, 3, 4, 5]\n",
    "item = random.choice(lst)\n",
    "print(\"Randomly selected item:\", item)\n"
   ]
  },
  {
   "cell_type": "markdown",
   "metadata": {},
   "source": [
    "39)Write a Python program to find the second smallest number in a list. \n"
   ]
  },
  {
   "cell_type": "code",
   "execution_count": 47,
   "metadata": {},
   "outputs": [
    {
     "name": "stdout",
     "output_type": "stream",
     "text": [
      "Second smallest number: 2\n"
     ]
    }
   ],
   "source": [
    "lst = [4, 1, 7, 3, 9, 2]\n",
    "lst = list(set(lst))  \n",
    "lst.sort()\n",
    "second_smallest = lst[1] if len(lst) > 1 else None\n",
    "print(\"Second smallest number:\", second_smallest)\n"
   ]
  },
  {
   "cell_type": "markdown",
   "metadata": {},
   "source": [
    "40)Write a Python program to get unique values from a list"
   ]
  },
  {
   "cell_type": "code",
   "execution_count": 48,
   "metadata": {},
   "outputs": [
    {
     "name": "stdout",
     "output_type": "stream",
     "text": [
      "Unique values: [1, 2, 3, 4, 5]\n"
     ]
    }
   ],
   "source": [
    "lst = [1, 2, 2, 3, 4, 4, 5]\n",
    "unique_values = list(set(lst))\n",
    "print(\"Unique values:\", unique_values)\n"
   ]
  },
  {
   "cell_type": "markdown",
   "metadata": {},
   "source": [
    "41)Write a Python program to check whether a list contains a sub list\n"
   ]
  },
  {
   "cell_type": "code",
   "execution_count": 49,
   "metadata": {},
   "outputs": [
    {
     "name": "stdout",
     "output_type": "stream",
     "text": [
      "Contains sublist: True\n"
     ]
    }
   ],
   "source": [
    "def contains_sublist(lst, sublist):\n",
    "    return any(lst[i:i+len(sublist)] == sublist for i in range(len(lst) - len(sublist) + 1))\n",
    "\n",
    "lst = [1, 2, 3, 4, 5]\n",
    "sublist = [3, 4]\n",
    "\n",
    "result = contains_sublist(lst, sublist)\n",
    "print(\"Contains sublist:\", result)\n"
   ]
  },
  {
   "cell_type": "markdown",
   "metadata": {},
   "source": [
    "42)Write a Python program to split a list into different variables. "
   ]
  },
  {
   "cell_type": "code",
   "execution_count": 50,
   "metadata": {},
   "outputs": [
    {
     "name": "stdout",
     "output_type": "stream",
     "text": [
      "Variables: 1 2 3 4 5\n"
     ]
    }
   ],
   "source": [
    "lst = [1, 2, 3, 4, 5]\n",
    "\n",
    "a, b, c, d, e = lst\n",
    "print(\"Variables:\", a, b, c, d, e)\n"
   ]
  },
  {
   "cell_type": "markdown",
   "metadata": {},
   "source": [
    "44)Write a Python program to create a tuple with different data types."
   ]
  },
  {
   "cell_type": "code",
   "execution_count": 53,
   "metadata": {},
   "outputs": [
    {
     "name": "stdout",
     "output_type": "stream",
     "text": [
      "Tuple: (1, 'Yug', 3.23, (1, 2, 4), True, [1, 2, 3])\n"
     ]
    }
   ],
   "source": [
    "tup = (1, \"Yug\", 3.23,(1,2,4), True, [1, 2, 3])\n",
    "print(\"Tuple:\", tup)\n"
   ]
  },
  {
   "cell_type": "markdown",
   "metadata": {},
   "source": [
    "45)Write a Python program to unzip a list of tuples into individual lists. "
   ]
  },
  {
   "cell_type": "code",
   "execution_count": 54,
   "metadata": {},
   "outputs": [
    {
     "name": "stdout",
     "output_type": "stream",
     "text": [
      "List 1: (1, 2, 3)\n",
      "List 2: ('a', 'b', 'c')\n"
     ]
    }
   ],
   "source": [
    "lst = [(1, 'a'), (2, 'b'), (3, 'c')]\n",
    "unzipped = zip(*lst)\n",
    "list1, list2 = list(unzipped)\n",
    "print(\"List 1:\", list1)\n",
    "print(\"List 2:\", list2)\n"
   ]
  },
  {
   "cell_type": "markdown",
   "metadata": {},
   "source": [
    "46)Write a Python program to convert a list of tuples into a dictionary"
   ]
  },
  {
   "cell_type": "code",
   "execution_count": 55,
   "metadata": {},
   "outputs": [
    {
     "name": "stdout",
     "output_type": "stream",
     "text": [
      "Dictionary: {1: 'a', 2: 'b', 3: 'c'}\n"
     ]
    }
   ],
   "source": [
    "lst = [(1, 'a'), (2, 'b'), (3, 'c')]\n",
    "dictionary = dict(lst)\n",
    "print(\"Dictionary:\", dictionary)\n"
   ]
  },
  {
   "cell_type": "markdown",
   "metadata": {},
   "source": [
    "48)Write a Python script to sort (ascending and descending) a\n",
    "dictionary by value."
   ]
  },
  {
   "cell_type": "code",
   "execution_count": 56,
   "metadata": {},
   "outputs": [
    {
     "name": "stdout",
     "output_type": "stream",
     "text": [
      "Sorted by value (ascending): {1: 'apple', 2: 'banana', 3: 'cherry', 4: 'date'}\n",
      "Sorted by value (descending): {4: 'date', 3: 'cherry', 2: 'banana', 1: 'apple'}\n"
     ]
    }
   ],
   "source": [
    "d = {1: 'apple', 2: 'banana', 3: 'cherry', 4: 'date'}\n",
    "\n",
    "sorted_asc = dict(sorted(d.items(), key=lambda item: item[1]))\n",
    "print(\"Sorted by value (ascending):\", sorted_asc)\n",
    "\n",
    "sorted_desc = dict(sorted(d.items(), key=lambda item: item[1], reverse=True))\n",
    "print(\"Sorted by value (descending):\", sorted_desc)\n"
   ]
  },
  {
   "cell_type": "markdown",
   "metadata": {},
   "source": [
    "49)Write a Python script to concatenate following dictionaries to create\n",
    "a new one. "
   ]
  },
  {
   "cell_type": "code",
   "execution_count": 57,
   "metadata": {},
   "outputs": [
    {
     "name": "stdout",
     "output_type": "stream",
     "text": [
      "Concatenated dictionary: {1: 'a', 2: 'b', 3: 'c', 4: 'd', 5: 'e'}\n"
     ]
    }
   ],
   "source": [
    "d1 = {1: 'a', 2: 'b'}\n",
    "d2 = {3: 'c', 4: 'd'}\n",
    "d3 = {5: 'e'}\n",
    "\n",
    "new_dict = {**d1, **d2, **d3}\n",
    "print(\"Concatenated dictionary:\", new_dict)\n"
   ]
  },
  {
   "cell_type": "markdown",
   "metadata": {},
   "source": [
    "50)Write a Python script to check if a given key already exists in a\n",
    "dictionary. "
   ]
  },
  {
   "cell_type": "code",
   "execution_count": 58,
   "metadata": {},
   "outputs": [
    {
     "name": "stdout",
     "output_type": "stream",
     "text": [
      "Key exists in the dictionary.\n"
     ]
    }
   ],
   "source": [
    "d = {1: 'a', 2: 'b', 3: 'c'}\n",
    "\n",
    "key = 2\n",
    "if key in d:\n",
    "    print(\"Key exists in the dictionary.\")\n",
    "else:\n",
    "    print(\"Key does not exist in the dictionary.\")\n"
   ]
  },
  {
   "cell_type": "markdown",
   "metadata": {},
   "source": [
    "53)Write a Python script to print a dictionary where the keys are\n",
    "numbers between 1 and 15."
   ]
  },
  {
   "cell_type": "code",
   "execution_count": 59,
   "metadata": {},
   "outputs": [
    {
     "name": "stdout",
     "output_type": "stream",
     "text": [
      "Dictionary: {1: 1, 2: 2, 3: 3, 4: 4, 5: 5, 6: 6, 7: 7, 8: 8, 9: 9, 10: 10, 11: 11, 12: 12, 13: 13, 14: 14, 15: 15}\n"
     ]
    }
   ],
   "source": [
    "d = {i: i for i in range(1, 16)}\n",
    "print(\"Dictionary:\", d)\n"
   ]
  },
  {
   "cell_type": "markdown",
   "metadata": {},
   "source": [
    "54)Write a Python program to check multiple keys exists in a dictionary \n"
   ]
  },
  {
   "cell_type": "code",
   "execution_count": 61,
   "metadata": {},
   "outputs": [
    {
     "name": "stdout",
     "output_type": "stream",
     "text": [
      "All keys exist in the dictionary.\n"
     ]
    }
   ],
   "source": [
    "d = {1: 'a', 2: 'b', 3: 'c', 4: 'd'}\n",
    "\n",
    "keys = [1, 2, 4]\n",
    "\n",
    "if all(key in d for key in keys):\n",
    "    print(\"All keys exist in the dictionary.\")\n",
    "else:\n",
    "    print(\"Not all keys exist in the dictionary.\")\n"
   ]
  },
  {
   "cell_type": "markdown",
   "metadata": {},
   "source": [
    "55)Write a Python script to merge two Python dictionaries \n"
   ]
  },
  {
   "cell_type": "code",
   "execution_count": 62,
   "metadata": {},
   "outputs": [
    {
     "name": "stdout",
     "output_type": "stream",
     "text": [
      "Merged dictionary: {1: 'a', 2: 'b', 3: 'c', 4: 'd'}\n"
     ]
    }
   ],
   "source": [
    "d1 = {1: 'a', 2: 'b'}\n",
    "d2 = {3: 'c', 4: 'd'}\n",
    "\n",
    "merged_dict = {**d1, **d2}\n",
    "print(\"Merged dictionary:\", merged_dict)\n"
   ]
  },
  {
   "cell_type": "markdown",
   "metadata": {},
   "source": [
    "56)Write a Python program to map two lists into a dictionary\n",
    "Sample output: Counter ({'a': 400, 'b': 400,’d’: 400, 'c': 300}). "
   ]
  },
  {
   "cell_type": "code",
   "execution_count": 64,
   "metadata": {},
   "outputs": [
    {
     "name": "stdout",
     "output_type": "stream",
     "text": [
      "Mapped dictionary: {'a': 1, 'b': 2, 'c': 3, 'd': 4}\n"
     ]
    }
   ],
   "source": [
    "keys = ['a', 'b', 'c', 'd']\n",
    "values = [1,2,3,4]\n",
    "\n",
    "mapped_dict = dict(zip(keys, values))\n",
    "print(\"Mapped dictionary:\", mapped_dict)\n"
   ]
  },
  {
   "cell_type": "markdown",
   "metadata": {},
   "source": [
    "57)Write a Python program to find the highest 3 values in a dictionary "
   ]
  },
  {
   "cell_type": "code",
   "execution_count": 65,
   "metadata": {},
   "outputs": [
    {
     "name": "stdout",
     "output_type": "stream",
     "text": [
      "Highest 3 values: [500, 400, 300]\n"
     ]
    }
   ],
   "source": [
    "d = {'a': 100, 'b': 200, 'c': 300, 'd': 400, 'e': 500}\n",
    "\n",
    "highest_values = sorted(d.values(), reverse=True)[:3]\n",
    "print(\"Highest 3 values:\", highest_values)\n"
   ]
  },
  {
   "cell_type": "markdown",
   "metadata": {},
   "source": [
    "58)Write a Python program to combine values in python list of dictionaries.\n",
    "Sample data: [{'item': 'item1', 'amount': 400}, {'item': 'item2', 'amount':\n",
    "300}, o {'item': 'item1', 'amount': 750}]\n",
    "Expected Output:\n",
    "• Counter ({'item1': 1150, 'item2': 300})"
   ]
  },
  {
   "cell_type": "code",
   "execution_count": 66,
   "metadata": {},
   "outputs": [
    {
     "name": "stdout",
     "output_type": "stream",
     "text": [
      "Counter: Counter({'item1': 1150, 'item2': 300})\n"
     ]
    }
   ],
   "source": [
    "from collections import Counter\n",
    "\n",
    "data = [{'item': 'item1', 'amount': 400}, {'item': 'item2', 'amount': 300}, {'item': 'item1', 'amount': 750}]\n",
    "\n",
    "result = Counter()\n",
    "\n",
    "for entry in data:\n",
    "    result[entry['item']] += entry['amount']\n",
    "\n",
    "print(\"Counter:\", result)\n"
   ]
  },
  {
   "cell_type": "markdown",
   "metadata": {},
   "source": [
    "59)Write a Python program to create a dictionary from a string.\n",
    "Note: Track the count of the letters from the string. "
   ]
  },
  {
   "cell_type": "code",
   "execution_count": 67,
   "metadata": {},
   "outputs": [
    {
     "name": "stdout",
     "output_type": "stream",
     "text": [
      "Letter count: {'h': 1, 'e': 1, 'l': 3, 'o': 2, 'w': 1, 'r': 1, 'd': 1}\n"
     ]
    }
   ],
   "source": [
    "s = \"hello world\"\n",
    "\n",
    "letter_count = {}\n",
    "\n",
    "for letter in s:\n",
    "    if letter != ' ':\n",
    "        letter_count[letter] = letter_count.get(letter, 0) + 1\n",
    "\n",
    "print(\"Letter count:\", letter_count)\n"
   ]
  },
  {
   "cell_type": "markdown",
   "metadata": {},
   "source": [
    "60)Sample string:\n",
    " 'w3resource' Expected output:\n",
    "• {'3': 1,’s’: 1, 'r': 2, 'u': 1, 'w': 1, 'c': 1, 'e': 2, 'o': 1}"
   ]
  },
  {
   "cell_type": "code",
   "execution_count": 68,
   "metadata": {},
   "outputs": [
    {
     "name": "stdout",
     "output_type": "stream",
     "text": [
      "Letter count: {'w': 1, '3': 1, 'r': 2, 'e': 2, 's': 1, 'o': 1, 'u': 1, 'c': 1}\n"
     ]
    }
   ],
   "source": [
    "s = 'w3resource'\n",
    "\n",
    "letter_count = {}\n",
    "\n",
    "for letter in s:\n",
    "    letter_count[letter] = letter_count.get(letter, 0) + 1\n",
    "\n",
    "print(\"Letter count:\", letter_count)\n"
   ]
  },
  {
   "cell_type": "markdown",
   "metadata": {},
   "source": [
    "61)Write a Python function to calculate the factorial of a number (a\n",
    "nonnegative integer) \n",
    "\n"
   ]
  },
  {
   "cell_type": "code",
   "execution_count": 69,
   "metadata": {},
   "outputs": [
    {
     "name": "stdout",
     "output_type": "stream",
     "text": [
      "Factorial of 4 is 24\n"
     ]
    }
   ],
   "source": [
    "def factorial(n):\n",
    "    if n == 0 or n == 1:\n",
    "        return 1\n",
    "    else:\n",
    "        return n * factorial(n - 1)\n",
    "\n",
    "num = int(input(\"Enter a number: \"))\n",
    "result = factorial(num)\n",
    "print(\"Factorial of\", num, \"is\", result)\n"
   ]
  },
  {
   "cell_type": "markdown",
   "metadata": {},
   "source": [
    "62)Write a Python function to check whether a number is in a given range \n",
    "\n"
   ]
  },
  {
   "cell_type": "code",
   "execution_count": 70,
   "metadata": {},
   "outputs": [
    {
     "name": "stdout",
     "output_type": "stream",
     "text": [
      "Is the number 5 in the range 4 to 5? True\n"
     ]
    }
   ],
   "source": [
    "def check_range(num, start, end):\n",
    "    if start <= num <= end:\n",
    "        return True\n",
    "    else:\n",
    "        return False\n",
    "\n",
    "num = int(input(\"Enter a number: \"))\n",
    "start = int(input(\"Enter the start of the range: \"))\n",
    "end = int(input(\"Enter the end of the range: \"))\n",
    "\n",
    "result = check_range(num, start, end)\n",
    "print(f\"Is the number {num} in the range {start} to {end}? {result}\")\n"
   ]
  },
  {
   "cell_type": "markdown",
   "metadata": {},
   "source": [
    "63)Write a Python function to check whether a number is perfect or not. \n",
    "\n"
   ]
  },
  {
   "cell_type": "code",
   "execution_count": 71,
   "metadata": {},
   "outputs": [
    {
     "name": "stdout",
     "output_type": "stream",
     "text": [
      "Is the number 6 perfect? True\n"
     ]
    }
   ],
   "source": [
    "def is_perfect(num):\n",
    "    if num < 1:\n",
    "        return False\n",
    "    divisors_sum = sum(i for i in range(1, num) if num % i == 0)\n",
    "    return divisors_sum == num\n",
    "\n",
    "num = int(input(\"Enter a number: \"))\n",
    "result = is_perfect(num)\n",
    "print(f\"Is the number {num} perfect? {result}\")\n"
   ]
  },
  {
   "cell_type": "markdown",
   "metadata": {},
   "source": [
    "64)Write a Python function that checks whether a passed string is\n",
    "palindrome or not \n"
   ]
  },
  {
   "cell_type": "code",
   "execution_count": 72,
   "metadata": {},
   "outputs": [
    {
     "name": "stdout",
     "output_type": "stream",
     "text": [
      "Is the string 'yug' a palindrome? False\n"
     ]
    }
   ],
   "source": [
    "def is_palindrome(s):\n",
    "    return s == s[::-1]\n",
    "\n",
    "s = input(\"Enter a string: \")\n",
    "result = is_palindrome(s)\n",
    "print(f\"Is the string '{s}' a palindrome? {result}\")\n"
   ]
  },
  {
   "cell_type": "markdown",
   "metadata": {},
   "source": [
    "72)Write a Python program to read an entire text file"
   ]
  },
  {
   "cell_type": "code",
   "execution_count": 77,
   "metadata": {},
   "outputs": [
    {
     "name": "stdout",
     "output_type": "stream",
     "text": [
      "Yug Chauhan \n",
      "hello\n"
     ]
    }
   ],
   "source": [
    "with open('C:/Users/YUG CHAUHAN/OneDrive/Desktop/PYTHON_ASSIGNMENT/Sample.txt', 'r') as file:\n",
    "    content = file.read()\n",
    "    print(content)\n"
   ]
  },
  {
   "cell_type": "markdown",
   "metadata": {},
   "source": [
    "73)Write a Python program to append text to a file and display the text. \n"
   ]
  },
  {
   "cell_type": "code",
   "execution_count": 78,
   "metadata": {},
   "outputs": [
    {
     "name": "stdout",
     "output_type": "stream",
     "text": [
      "Yug Chauhan \n",
      "helloAppending new text to the file.\n",
      "\n"
     ]
    }
   ],
   "source": [
    "with open('C:/Users/YUG CHAUHAN/OneDrive/Desktop/PYTHON_ASSIGNMENT/Sample.txt', 'a') as file:\n",
    "    file.write('Appending new text to the file.\\n')\n",
    "\n",
    "with open('C:/Users/YUG CHAUHAN/OneDrive/Desktop/PYTHON_ASSIGNMENT/Sample.txt', 'r') as file:\n",
    "    content = file.read()\n",
    "    print(content)\n"
   ]
  },
  {
   "cell_type": "markdown",
   "metadata": {},
   "source": [
    "74)Write a Python program to read first n lines of a file. "
   ]
  },
  {
   "cell_type": "code",
   "execution_count": 80,
   "metadata": {},
   "outputs": [
    {
     "name": "stdout",
     "output_type": "stream",
     "text": [
      "Yug Chauhan \n"
     ]
    }
   ],
   "source": [
    "def read_n_lines(file_name, n):\n",
    "    with open(file_name, 'r') as file:\n",
    "        for _ in range(n):\n",
    "            print(file.readline(), end='')\n",
    "\n",
    "file_name = 'C:/Users/YUG CHAUHAN/OneDrive/Desktop/PYTHON_ASSIGNMENT/Sample.txt' \n",
    "n = int(input(\"Enter the number of lines to read: \"))\n",
    "read_n_lines(file_name, n)\n"
   ]
  },
  {
   "cell_type": "markdown",
   "metadata": {},
   "source": [
    "75)Write a Python program to read last n lines of a file. \n"
   ]
  },
  {
   "cell_type": "code",
   "execution_count": 82,
   "metadata": {},
   "outputs": [
    {
     "name": "stdout",
     "output_type": "stream",
     "text": [
      "Yug Chauhan \n",
      "helloAppending new text to the file.\n"
     ]
    }
   ],
   "source": [
    "def read_last_n_lines(file_name, n):\n",
    "    with open(file_name, 'r') as file:\n",
    "        lines = file.readlines()\n",
    "        for line in lines[-n:]:\n",
    "            print(line, end='')\n",
    "\n",
    "file_name = 'C:/Users/YUG CHAUHAN/OneDrive/Desktop/PYTHON_ASSIGNMENT/Sample.txt'  \n",
    "n = int(input(\"Enter the number of lines to read from the end: \"))\n",
    "read_last_n_lines(file_name, n)\n"
   ]
  },
  {
   "cell_type": "markdown",
   "metadata": {},
   "source": [
    "76)Write a Python program to read a file line by line and store it into a list"
   ]
  },
  {
   "cell_type": "code",
   "execution_count": 83,
   "metadata": {},
   "outputs": [
    {
     "name": "stdout",
     "output_type": "stream",
     "text": [
      "['Yug Chauhan \\n', 'helloAppending new text to the file.\\n']\n"
     ]
    }
   ],
   "source": [
    "def read_lines_to_list(file_name):\n",
    "    with open(file_name, 'r') as file:\n",
    "        lines = file.readlines()\n",
    "    return lines\n",
    "\n",
    "file_name = 'C:/Users/YUG CHAUHAN/OneDrive/Desktop/PYTHON_ASSIGNMENT/Sample.txt'  \n",
    "lines_list = read_lines_to_list(file_name)\n",
    "print(lines_list)\n"
   ]
  },
  {
   "cell_type": "markdown",
   "metadata": {},
   "source": [
    "77)Write a Python program to read a file line by line store it into a variable. \n"
   ]
  },
  {
   "cell_type": "code",
   "execution_count": 84,
   "metadata": {},
   "outputs": [
    {
     "name": "stdout",
     "output_type": "stream",
     "text": [
      "Yug Chauhan \n",
      "helloAppending new text to the file.\n",
      "\n"
     ]
    }
   ],
   "source": [
    "def read_lines_to_variable(file_name):\n",
    "    with open(file_name, 'r') as file:\n",
    "        content = file.read()\n",
    "    return content\n",
    "\n",
    "file_name = \"C:/Users/YUG CHAUHAN/OneDrive/Desktop/PYTHON_ASSIGNMENT/Sample.txt\"  \n",
    "content = read_lines_to_variable(file_name)\n",
    "print(content)\n"
   ]
  },
  {
   "cell_type": "markdown",
   "metadata": {},
   "source": [
    "78)Write a python program to find the longest words. \n"
   ]
  },
  {
   "cell_type": "code",
   "execution_count": 85,
   "metadata": {},
   "outputs": [
    {
     "name": "stdout",
     "output_type": "stream",
     "text": [
      "Longest word: program\n"
     ]
    }
   ],
   "source": [
    "def find_longest_word(text):\n",
    "    words = text.split()\n",
    "    longest_word = max(words, key=len)\n",
    "    return longest_word\n",
    "\n",
    "text = \"Write a python program to find the longest words\"\n",
    "longest_word = find_longest_word(text)\n",
    "print(\"Longest word:\", longest_word)\n"
   ]
  },
  {
   "cell_type": "markdown",
   "metadata": {},
   "source": [
    "79)Write a Python program to count the number of lines in a text file. "
   ]
  },
  {
   "cell_type": "code",
   "execution_count": 87,
   "metadata": {},
   "outputs": [
    {
     "name": "stdout",
     "output_type": "stream",
     "text": [
      "Number of lines in the file: 2\n"
     ]
    }
   ],
   "source": [
    "def count_lines_in_file(file_name):\n",
    "    with open(file_name, 'r') as file:\n",
    "        lines = file.readlines()\n",
    "    return len(lines)\n",
    "\n",
    "file_name = 'C:/Users/YUG CHAUHAN/OneDrive/Desktop/PYTHON_ASSIGNMENT/Sample.txt' \n",
    "line_count = count_lines_in_file(file_name)\n",
    "print(\"Number of lines in the file:\", line_count)\n"
   ]
  },
  {
   "cell_type": "markdown",
   "metadata": {},
   "source": [
    "80)Write a Python program to count the frequency of words in a file"
   ]
  },
  {
   "cell_type": "code",
   "execution_count": 89,
   "metadata": {},
   "outputs": [
    {
     "name": "stdout",
     "output_type": "stream",
     "text": [
      "Word frequency: Counter({'Yug': 1, 'Chauhan': 1, 'helloAppending': 1, 'new': 1, 'text': 1, 'to': 1, 'the': 1, 'file.': 1})\n"
     ]
    }
   ],
   "source": [
    "from collections import Counter\n",
    "\n",
    "def countfrequency(file_name):\n",
    "    with open(file_name, 'r') as file:\n",
    "        words = file.read().split()\n",
    "    return Counter(words)\n",
    "\n",
    "file_name = \"C:/Users/YUG CHAUHAN/OneDrive/Desktop/PYTHON_ASSIGNMENT/Sample.txt\"\n",
    "word_frequency = countfrequency(file_name)\n",
    "print(\"Word frequency:\", word_frequency)\n"
   ]
  },
  {
   "cell_type": "markdown",
   "metadata": {},
   "source": [
    "81)Write a Python program to write a list to a file."
   ]
  },
  {
   "cell_type": "code",
   "execution_count": null,
   "metadata": {},
   "outputs": [],
   "source": [
    "def write_listfile(file_name, data):\n",
    "    with open(file_name, 'w') as file:\n",
    "        for item in data:\n",
    "            file.write(f\"{item}\\n\")\n",
    "\n",
    "data = ['apple', 'banana', 'cherry']\n",
    "file_name = 'C:/Users/YUG CHAUHAN/OneDrive/Desktop/PYTHON_ASSIGNMENT/Sample.txt'  \n",
    "write_listfile(file_name, data)\n"
   ]
  },
  {
   "cell_type": "markdown",
   "metadata": {},
   "source": [
    "82)Write a Python program to copy the contents of a file to another file"
   ]
  },
  {
   "cell_type": "code",
   "execution_count": 92,
   "metadata": {},
   "outputs": [],
   "source": [
    "def copycontents(source_file, destination_file):\n",
    "    with open(source_file, 'r') as src:\n",
    "        content = src.read()\n",
    "    with open(destination_file, 'w') as dest:\n",
    "        dest.write(content)\n",
    "\n",
    "source_file = 'C:/Users/YUG CHAUHAN/OneDrive/Desktop/PYTHON_ASSIGNMENT/source.txt'  \n",
    "destination_file ='C:/Users/YUG CHAUHAN/OneDrive/Desktop/PYTHON_ASSIGNMENT/destination.txt'\n",
    "copycontents(source_file, destination_file)\n"
   ]
  },
  {
   "cell_type": "markdown",
   "metadata": {},
   "source": [
    "90)Write python program that user to enter only odd numbers, else\n",
    "will raise an exception"
   ]
  },
  {
   "cell_type": "code",
   "execution_count": 93,
   "metadata": {},
   "outputs": [
    {
     "name": "stdout",
     "output_type": "stream",
     "text": [
      "This is not an odd number.\n"
     ]
    }
   ],
   "source": [
    "def getoddnumber():\n",
    "    try:\n",
    "        number = int(input(\"Enter an odd number: \"))\n",
    "        if number % 2 == 0:\n",
    "            raise ValueError(\"This is not an odd number.\")\n",
    "        else:\n",
    "            print(f\"Thank you! You entered the odd number: {number}\")\n",
    "    except ValueError as e:\n",
    "        print(e)\n",
    "\n",
    "getoddnumber()\n"
   ]
  },
  {
   "cell_type": "code",
   "execution_count": null,
   "metadata": {},
   "outputs": [],
   "source": []
  }
 ],
 "metadata": {
  "kernelspec": {
   "display_name": "Python 3",
   "language": "python",
   "name": "python3"
  },
  "language_info": {
   "codemirror_mode": {
    "name": "ipython",
    "version": 3
   },
   "file_extension": ".py",
   "mimetype": "text/x-python",
   "name": "python",
   "nbconvert_exporter": "python",
   "pygments_lexer": "ipython3",
   "version": "3.11.4"
  }
 },
 "nbformat": 4,
 "nbformat_minor": 2
}
