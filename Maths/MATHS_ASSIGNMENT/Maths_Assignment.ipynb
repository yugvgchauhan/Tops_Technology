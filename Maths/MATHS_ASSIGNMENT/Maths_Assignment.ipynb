{
 "cells": [
  {
   "cell_type": "markdown",
   "metadata": {},
   "source": [
    "1) Business Problem: A retail store wants to analyze the sales data of a particular\n",
    "product category to understand the typical sales performance and make strategic\n",
    "decisions.\n",
    "Data:\n",
    "Let's consider the weekly sales data (in units) for the past month for a specific product\n",
    "category:\n",
    "Week 1: 50 units\n",
    "Week 2: 60 units\n",
    "Week 3: 55 units\n",
    "Week 4: 70 units\n",
    "Question:\n",
    "1. Mean: What is the average weekly sales of the product category?\n",
    "2. Median: What is the typical or central sales value for the product category?\n",
    "3. Mode: Are there any recurring or most frequently occurring sales figures for the\n",
    "product category?\n"
   ]
  },
  {
   "cell_type": "code",
   "execution_count": 1,
   "metadata": {},
   "outputs": [
    {
     "name": "stdout",
     "output_type": "stream",
     "text": [
      "Mean: 58.75\n",
      "median: 57.5\n",
      "Mode: ModeResult(mode=50, count=1)\n"
     ]
    }
   ],
   "source": [
    "import numpy as np\n",
    "from scipy import stats\n",
    "\n",
    "sales_data = np.array([50, 60, 55, 70])\n",
    "print(\"Mean:\",np.mean(sales_data))\n",
    "print(\"median:\",np.median(sales_data))\n",
    "print(\"Mode:\",stats.mode(sales_data))"
   ]
  },
  {
   "cell_type": "markdown",
   "metadata": {},
   "source": [
    " Business Problem: A restaurant wants to analyze the waiting times of its\n",
    "customers to understand the typical waiting experience and improve service\n",
    "efficiency.\n",
    "Data:\n",
    "Let's consider the waiting times (in minutes) for the past 20 customers:\n",
    "15, 10, 20, 25, 15, 10, 30, 20, 15, 10,\n",
    "10, 25, 15, 20, 20, 15, 10, 10, 20, 25\n",
    "Question:\n",
    "1. Mean: What is the average waiting time for customers at the restaurant?\n",
    "2. Median: What is the typical or central waiting time experienced by customers?\n",
    "3. Mode: Are there any recurring or most frequently occurring waiting times for\n",
    "customers?"
   ]
  },
  {
   "cell_type": "code",
   "execution_count": 2,
   "metadata": {},
   "outputs": [
    {
     "name": "stdout",
     "output_type": "stream",
     "text": [
      "Mean: 17.0\n",
      "Median: 15.0\n",
      "Mode: ModeResult(mode=10, count=6)\n"
     ]
    }
   ],
   "source": [
    "waiting_time=np.array([15, 10, 20, 25, 15, 10, 30, 20, 15, 10,10, 25, 15, 20, 20, 15, 10, 10, 20, 25])\n",
    "print(\"Mean:\",np.mean(waiting_time))\n",
    "print(\"Median:\",np.median(waiting_time))\n",
    "print(\"Mode:\",stats.mode(waiting_time))"
   ]
  },
  {
   "cell_type": "markdown",
   "metadata": {},
   "source": [
    "Business Problem: A car rental company wants to analyze the rental durations of\n",
    "its customers to understand the typical rental period and optimize its pricing and\n",
    "fleet management strategies.\n",
    "Data:\n",
    "Let's consider the rental durations (in days) for a sample of 50 customers:\n",
    "3, 2, 5, 4, 7, 2, 3, 3, 1, 6,\n",
    "4, 2, 3, 5, 2, 4, 2, 1, 3, 5,\n",
    "6, 3, 2, 1, 4, 2, 4, 5, 3, 2,\n",
    "7, 2, 3, 4, 5, 1, 6, 2, 4, 3,\n",
    "5, 3, 2, 4, 2, 6, 3, 2, 4, 5\n",
    "Question:\n",
    "1. Mean: What is the average rental duration for customers at the car rental company?\n",
    "2. Median: What is the typical or central rental duration experienced by customers?\n",
    "3. Mode: Are there any recurring or most frequently occurring rental durations for\n",
    "customers?\n"
   ]
  },
  {
   "cell_type": "code",
   "execution_count": 3,
   "metadata": {},
   "outputs": [
    {
     "name": "stdout",
     "output_type": "stream",
     "text": [
      "Mean: 3.44\n",
      "median: 3.0\n",
      "mode: ModeResult(mode=2, count=13)\n"
     ]
    }
   ],
   "source": [
    "rental_period=[3, 2, 5, 4, 7, 2, 3, 3, 1, 6,4, 2, 3, 5, 2, 4, 2, 1, 3, 5,6, 3, 2, 1, 4, 2, 4, 5, 3, 2,7, 2, 3, 4, 5, 1, 6, 2, 4, 3,5, 3, 2, 4, 2, 6, 3, 2, 4, 5]\n",
    "print(\"Mean:\",np.mean(rental_period))\n",
    "print(\"median:\",np.median(rental_period))\n",
    "print(\"mode:\",stats.mode(rental_period))"
   ]
  },
  {
   "cell_type": "markdown",
   "metadata": {},
   "source": [
    " Problem: A manufacturing company wants to analyze the production output of a\n",
    "specific machine to understand the variability or spread in its performance.\n",
    "Data:\n",
    "Let's consider the number of units produced per hour by the machine for a sample of 10\n",
    "working days:\n",
    "Day 1: 120 units\n",
    "Day 2: 110 units\n",
    "Day 3: 130 units\n",
    "Day 4: 115 units\n",
    "Day 5: 125 units\n",
    "Day 6: 105 units\n",
    "Day 7: 135 units\n",
    "Day 8: 115 units\n",
    "Day 9: 125 units\n",
    "Day 10: 140 units\n",
    "Question:\n",
    "1. Range: What is the range of the production output for the machine?\n",
    "2. Variance: What is the variance of the production output for the machine?\n",
    "3. Standard Deviation: What is the standard deviation of the production output for the\n",
    "machine?"
   ]
  },
  {
   "cell_type": "code",
   "execution_count": 4,
   "metadata": {},
   "outputs": [
    {
     "name": "stdout",
     "output_type": "stream",
     "text": [
      "Range: 35 units\n",
      "variance: 111.0\n",
      "Standard_deviation: 10.54\n"
     ]
    }
   ],
   "source": [
    "production_data = [120, 110, 130, 115, 125, 105, 135, 115, 125, 140]\n",
    "range=np.ptp(production_data)\n",
    "print(f\"Range: {range} units\")\n",
    "\n",
    "var=np.var(production_data)\n",
    "print(f\"variance: {var}\")\n",
    "\n",
    "std_dev=np.std(production_data)\n",
    "print(f\"Standard_deviation: {std_dev:.2f}\")"
   ]
  },
  {
   "cell_type": "markdown",
   "metadata": {},
   "source": [
    "Problem: A retail store wants to analyze the sales of a specific product to\n",
    "understand the variability in daily sales and assess its inventory management.\n",
    "Data:\n",
    "Let's consider the daily sales (in dollars) for the past 30 days:\n",
    "$500, $700, $400, $600, $550, $750, $650, $500, $600, $550,\n",
    "$800, $450, $700, $550, $600, $400, $650, $500, $750, $550,\n",
    "$700, $600, $500, $800, $550, $650, $400, $600, $750, $550\n",
    "Questions:\n",
    "1. Range: What is the range of the daily sales?\n",
    "2. Variance: What is the variance of the daily sales?\n",
    "3. Standard Deviation: What is the standard deviation of the daily sales?"
   ]
  },
  {
   "cell_type": "code",
   "execution_count": 5,
   "metadata": {},
   "outputs": [
    {
     "name": "stdout",
     "output_type": "stream",
     "text": [
      "Range: 400 $\n",
      "variance: 13163.793103448275\n",
      "Standard_deviation: 114.73\n"
     ]
    }
   ],
   "source": [
    "sales= [\n",
    "    500, 700, 400, 600, 550, 750, 650, 500, 600, 550,\n",
    "    800, 450, 700, 550, 600, 400, 650, 500, 750, 550,\n",
    "    700, 600, 500, 800, 550, 650, 400, 600, 750, 550\n",
    "]\n",
    "range=np.ptp(sales)\n",
    "print(f\"Range: {range} $\")\n",
    "\n",
    "var=np.var(sales,ddof=1)\n",
    "print(f\"variance: {var}\")\n",
    "\n",
    "std_dev=np.std(sales,ddof=1)\n",
    "print(f\"Standard_deviation: {std_dev:.2f}\")"
   ]
  },
  {
   "cell_type": "markdown",
   "metadata": {},
   "source": [
    "Problem: An e-commerce platform wants to analyze the delivery times of its\n",
    "shipments to understand the variability in order fulfillment and optimize its\n",
    "logistics operations.\n",
    "Data:\n",
    "Let's consider the delivery times (in days) for a sample of 50 shipments:\n",
    "3, 5, 2, 4, 6, 2, 3, 4, 2, 5,\n",
    "7, 2, 3, 4, 2, 4, 2, 3, 5, 6,\n",
    "3, 2, 1, 4, 2, 4, 5, 3, 2, 7,\n",
    "2, 3, 4, 5, 1, 6, 2, 4, 3, 5,\n",
    "3, 2, 4, 2, 6, 3, 2, 4, 5, 3\n",
    "Questions:\n",
    "1. Range: What is the range of the delivery times?\n",
    "2. Variance: What is the variance of the delivery times?\n",
    "3. Standard Deviation: What is the standard deviation of the delivery times?\n"
   ]
  },
  {
   "cell_type": "code",
   "execution_count": 6,
   "metadata": {},
   "outputs": [
    {
     "name": "stdout",
     "output_type": "stream",
     "text": [
      "Range: 6 days\n",
      "variance: 2.2896\n",
      "Standard_deviation: 1.51\n"
     ]
    }
   ],
   "source": [
    "days=[3, 5, 2, 4, 6, 2, 3, 4, 2, 5,7, 2, 3, 4, 2, 4, 2, 3, 5, 6,3, 2, 1, 4, 2, 4, 5, 3, 2, 7,2, 3, 4, 5, 1, 6, 2, 4, 3, 5,3, 2, 4, 2, 6, 3, 2, 4, 5, 3]\n",
    "\n",
    "range=np.ptp(days)\n",
    "print(f\"Range: {range} days\")\n",
    "\n",
    "var=np.var(days)\n",
    "print(f\"variance: {var}\")\n",
    "\n",
    "std_dev=np.std(days)\n",
    "print(f\"Standard_deviation: {std_dev:.2f}\")\n",
    "\n"
   ]
  },
  {
   "cell_type": "markdown",
   "metadata": {},
   "source": [
    "Problem : A company wants to analyze the monthly revenue generated by one of\n",
    "its products to understand its performance and variability.\n",
    "Data:\n",
    "Let's consider the monthly revenue (in thousands of dollars) for the past 12 months:\n",
    "$120, $150, $110, $135, $125, $140, $130, $155, $115, $145, $135, $130\n",
    "Questions:\n",
    "1. Measure of Central Tendency: What is the average monthly revenue for the product?\n",
    "2. Measure of Dispersion: What is the range of monthly revenue for the product?\n"
   ]
  },
  {
   "cell_type": "code",
   "execution_count": 7,
   "metadata": {},
   "outputs": [
    {
     "name": "stdout",
     "output_type": "stream",
     "text": [
      "Average monthly revenue for product is 132.5 $\n",
      "Range of monthly revenue for the product is 45 $\n"
     ]
    }
   ],
   "source": [
    "revenue_data = [120, 150, 110, 135, 125, 140, 130, 155, 115, 145, 135, 130]\n",
    "mean=np.mean(revenue_data)\n",
    "print(f\"Average monthly revenue for product is {mean} $\")\n",
    "\n",
    "range=np.ptp(revenue_data)\n",
    "print(f\"Range of monthly revenue for the product is {range} $\")"
   ]
  },
  {
   "cell_type": "markdown",
   "metadata": {},
   "source": [
    "Problem : A survey was conducted to gather feedback from customers regarding\n",
    "their satisfaction with a particular service on a scale of 1 to 10.\n",
    "Data:\n",
    "Let's consider the satisfaction ratings from 50 customers:\n",
    "8, 7, 9, 6, 7, 8, 9, 8, 7, 6,\n",
    "8, 9, 7, 8, 7, 6, 8, 9, 6, 7,\n",
    "8, 9, 7, 6, 7, 8, 9, 8, 7, 6,\n",
    "9, 8, 7, 6, 8, 9, 7, 8, 7, 6,\n",
    "9, 8, 7, 6, 7, 8, 9, 8, 7, 6\n",
    "Questions:\n",
    "1. Measure of Central Tendency: What is the average satisfaction rating?\n",
    "2. Measure of Dispersion: What is the standard deviation of the satisfaction ratings?"
   ]
  },
  {
   "cell_type": "code",
   "execution_count": 8,
   "metadata": {},
   "outputs": [
    {
     "name": "stdout",
     "output_type": "stream",
     "text": [
      "Average customer feedback score is 7.5\n",
      "Standard deviation of customer feedback score is 1.04\n"
     ]
    }
   ],
   "source": [
    "feedback=[\n",
    "8, 7, 9, 6, 7, 8, 9, 8, 7, 6,\n",
    "8, 9, 7, 8, 7, 6, 8, 9, 6, 7,\n",
    "8, 9, 7, 6, 7, 8, 9, 8, 7, 6,\n",
    "9, 8, 7, 6, 8, 9, 7, 8, 7, 6,\n",
    "9, 8, 7, 6, 7, 8, 9, 8, 7, 6]\n",
    "\n",
    "mean=np.mean(feedback)\n",
    "print(f\"Average customer feedback score is {mean}\")\n",
    "\n",
    "SD=np.std(feedback,ddof=1)\n",
    "print(f\"Standard deviation of customer feedback score is {SD:.2f}\")"
   ]
  },
  {
   "cell_type": "markdown",
   "metadata": {},
   "source": [
    "6) Problem :A company wants to analyze the customer wait times at its call center to\n",
    "assess the efficiency of its customer service operations.\n",
    "Data:\n",
    "Let's consider the wait times (in minutes) for a sample of 100 randomly selected\n",
    "customer calls:\n",
    "10, 15, 12, 18, 20, 25, 8, 14, 16, 22,\n",
    "9, 17, 11, 13, 19, 23, 21, 16, 24, 27,\n",
    "13, 10, 18, 16, 12, 14, 19, 21, 11, 17,\n",
    "15, 20, 26, 13, 12, 14, 22, 19, 16, 11,\n",
    "25, 18, 16, 13, 21, 20, 15, 12, 19, 17,\n",
    "14, 16, 23, 18, 15, 11, 19, 22, 17, 12,\n",
    "16, 14, 18, 20, 25, 13, 11, 22, 19, 17,\n",
    "15, 16, 13, 14, 18, 20, 19, 21, 17, 12,\n",
    "15, 13, 16, 14, 22, 21, 19, 18, 16, 11,\n",
    "17, 14, 12, 20, 23, 19, 15, 16, 13, 18\n",
    "Questions:\n",
    "1. Measure of Central Tendency: What is the average wait time for customers at the call\n",
    "center?\n",
    "2. Measure of Dispersion: What is the range of wait times for customers at the call\n",
    "center?\n",
    "3. Measure of Dispersion: What is the standard deviation of the wait times for customers\n",
    "at the call center?\n"
   ]
  },
  {
   "cell_type": "code",
   "execution_count": 9,
   "metadata": {},
   "outputs": [
    {
     "name": "stdout",
     "output_type": "stream",
     "text": [
      "Average waiting time for customers is 16.74 minutes.\n",
      "Range of waiting time for customers is 19 minutes.\n",
      "Standard deviation of waiting time for customers is 4.14 minutes\n"
     ]
    }
   ],
   "source": [
    "wait_time=[\n",
    " 10, 15, 12, 18, 20, 25, 8, 14, 16, 22,\n",
    "9, 17, 11, 13, 19, 23, 21, 16, 24, 27,\n",
    "13, 10, 18, 16, 12, 14, 19, 21, 11, 17,\n",
    "15, 20, 26, 13, 12, 14, 22, 19, 16, 11,\n",
    "25, 18, 16, 13, 21, 20, 15, 12, 19, 17,\n",
    "14, 16, 23, 18, 15, 11, 19, 22, 17, 12,\n",
    "16, 14, 18, 20, 25, 13, 11, 22, 19, 17,\n",
    "15, 16, 13, 14, 18, 20, 19, 21, 17, 12,\n",
    "15, 13, 16, 14, 22, 21, 19, 18, 16, 11,\n",
    "17, 14, 12, 20, 23, 19, 15, 16, 13, 18\n",
    "]\n",
    "\n",
    "mean=np.mean(wait_time)\n",
    "print(f\"Average waiting time for customers is {mean} minutes.\")\n",
    "\n",
    "range=np.ptp(wait_time)\n",
    "print(f\"Range of waiting time for customers is {range} minutes.\")\n",
    "\n",
    "sd=np.std(wait_time,ddof=1)\n",
    "print(f\"Standard deviation of waiting time for customers is {sd:.2f} minutes\")"
   ]
  },
  {
   "cell_type": "markdown",
   "metadata": {},
   "source": [
    "Problem : A transportation company wants to analyze the fuel efficiency of its\n",
    "vehicle fleet to identify any variations across different vehicle models.\n",
    "Data:\n",
    "Let's consider the fuel efficiency (in miles per gallon, mpg) for a sample of 50 vehicles:\n",
    "Model A: 30, 32, 33, 28, 31, 30, 29, 30, 32, 31,\n",
    "Model B: 25, 27, 26, 23, 28, 24, 26, 25, 27, 28,\n",
    "Model C: 22, 23, 20, 25, 21, 24, 23, 22, 25, 24,\n",
    "Model D: 18, 17, 19, 20, 21, 18, 19, 17, 20, 19,\n",
    "Model E: 35, 36, 34, 35, 33, 34, 32, 33, 36, 34\n",
    "Questions:\n",
    "1. Measure of Central Tendency: What is the average fuel efficiency for each vehicle\n",
    "model?\n",
    "2. Measure of Dispersion: What is the range of fuel efficiency for each vehicle model?\n",
    "3. Measure of Dispersion: What is the variance of the fuel efficiency for each vehicle\n",
    "model?"
   ]
  },
  {
   "cell_type": "code",
   "execution_count": 10,
   "metadata": {},
   "outputs": [
    {
     "name": "stdout",
     "output_type": "stream",
     "text": [
      "Model A - Mean: 30.60, Range: 5, Variance: 2.27\n",
      "Model B - Mean: 25.90, Range: 5, Variance: 2.77\n",
      "Model C - Mean: 22.90, Range: 5, Variance: 2.77\n",
      "Model D - Mean: 18.80, Range: 4, Variance: 1.73\n",
      "Model E - Mean: 34.20, Range: 4, Variance: 1.73\n"
     ]
    }
   ],
   "source": [
    "\n",
    "model_a = [30, 32, 33, 28, 31, 30, 29, 30, 32, 31]\n",
    "model_b = [25, 27, 26, 23, 28, 24, 26, 25, 27, 28]\n",
    "model_c = [22, 23, 20, 25, 21, 24, 23, 22, 25, 24]\n",
    "model_d = [18, 17, 19, 20, 21, 18, 19, 17, 20, 19]\n",
    "model_e = [35, 36, 34, 35, 33, 34, 32, 33, 36, 34]\n",
    "\n",
    "mean_a = np.mean(model_a)\n",
    "mean_b = np.mean(model_b)\n",
    "mean_c = np.mean(model_c)\n",
    "mean_d = np.mean(model_d)\n",
    "mean_e = np.mean(model_e)\n",
    "\n",
    "range_a = np.ptp(model_a)\n",
    "range_b = np.ptp(model_b)\n",
    "range_c = np.ptp(model_c)\n",
    "range_d = np.ptp(model_d)\n",
    "range_e = np.ptp(model_e)\n",
    "\n",
    "variance_a = np.var(model_a, ddof=1)\n",
    "variance_b = np.var(model_b, ddof=1)\n",
    "variance_c = np.var(model_c, ddof=1)\n",
    "variance_d = np.var(model_d, ddof=1)\n",
    "variance_e = np.var(model_e, ddof=1)\n",
    "\n",
    "print(f\"Model A - Mean: {mean_a:.2f}, Range: {range_a}, Variance: {variance_a:.2f}\")\n",
    "print(f\"Model B - Mean: {mean_b:.2f}, Range: {range_b}, Variance: {variance_b:.2f}\")\n",
    "print(f\"Model C - Mean: {mean_c:.2f}, Range: {range_c}, Variance: {variance_c:.2f}\")\n",
    "print(f\"Model D - Mean: {mean_d:.2f}, Range: {range_d}, Variance: {variance_d:.2f}\")\n",
    "print(f\"Model E - Mean: {mean_e:.2f}, Range: {range_e}, Variance: {variance_e:.2f}\")\n"
   ]
  },
  {
   "cell_type": "markdown",
   "metadata": {},
   "source": [
    "Problem : A company wants to analyze the ages of its employees to understand\n",
    "the age distribution and demographics within the organization.\n",
    "Data:\n",
    "Let's consider the ages of 100 employees:\n",
    "28, 32, 35, 40, 42, 28, 33, 38, 30, 41,\n",
    "37, 31, 34, 29, 36, 43, 39, 27, 35, 31,\n",
    "39, 45, 29, 33, 37, 40, 36, 29, 31, 38,\n",
    "35, 44, 32, 39, 36, 30, 33, 28, 41, 35,\n",
    "31, 37, 42, 29, 34, 40, 31, 33, 38, 36,\n",
    "39, 27, 35, 30, 43, 29, 32, 36, 31, 40,\n",
    "38, 44, 37, 33, 35, 41, 30, 31, 39, 28,\n",
    "45, 29, 33, 38, 34, 32, 35, 31, 40, 36,\n",
    "39, 27, 35, 30, 43, 29, 32, 36, 31, 40,\n",
    "38, 44, 37, 33, 35, 41, 30, 31, 39, 28\n",
    "Questions:\n",
    "1. Frequency Distribution: Create a frequency distribution table for the ages of the\n",
    "employees.\n",
    "2. Mode: What is the mode (most common age) among the employees?\n",
    "3. Median: What is the median age of the employees?\n",
    "4. Range: What is the range of ages among the employees?"
   ]
  },
  {
   "cell_type": "code",
   "execution_count": 11,
   "metadata": {},
   "outputs": [
    {
     "name": "stdout",
     "output_type": "stream",
     "text": [
      "Frequency Distribution:\n",
      "27     3\n",
      "28     5\n",
      "29     7\n",
      "30     6\n",
      "31    10\n",
      "32     5\n",
      "33     7\n",
      "34     3\n",
      "35     9\n",
      "36     7\n",
      "37     5\n",
      "38     6\n",
      "39     7\n",
      "40     6\n",
      "41     4\n",
      "42     2\n",
      "43     3\n",
      "44     3\n",
      "45     2\n",
      "Name: count, dtype: int64\n",
      "Mode: ModeResult(mode=31, count=10)\n",
      "Median: 35.0\n",
      "Range: 18\n"
     ]
    }
   ],
   "source": [
    "import pandas as pd\n",
    "ages = [28, 32, 35, 40, 42, 28, 33, 38, 30, 41, 37, 31, 34, 29, 36, 43, 39, 27, 35, 31,\n",
    "        39, 45, 29, 33, 37, 40, 36, 29, 31, 38, 35, 44, 32, 39, 36, 30, 33, 28, 41, 35,\n",
    "        31, 37, 42, 29, 34, 40, 31, 33, 38, 36, 39, 27, 35, 30, 43, 29, 32, 36, 31, 40,\n",
    "        38, 44, 37, 33, 35, 41, 30, 31, 39, 28, 45, 29, 33, 38, 34, 32, 35, 31, 40, 36,\n",
    "        39, 27, 35, 30, 43, 29, 32, 36, 31, 40, 38, 44, 37, 33, 35, 41, 30, 31, 39, 28]\n",
    "\n",
    "freq_dist = pd.Series(ages).value_counts().sort_index()\n",
    "mode = stats.mode(ages)\n",
    "median = np.median(ages)\n",
    "age_range = np.ptp(ages)\n",
    "\n",
    "print(\"Frequency Distribution:\")\n",
    "print(freq_dist)\n",
    "print(f\"Mode: {mode}\")\n",
    "print(f\"Median: {median}\")\n",
    "print(f\"Range: {age_range}\")\n"
   ]
  },
  {
   "cell_type": "markdown",
   "metadata": {},
   "source": [
    " Problem :A retail store wants to analyze the purchase amounts made by\n",
    "customers to understand their spending habits.\n",
    "Data:\n",
    "Let's consider the purchase amounts (in dollars) for a sample of 50 customers:\n",
    "56, 40, 28, 73, 52, 61, 35, 40, 47, 65,\n",
    "52, 44, 38, 60, 56, 40, 36, 49, 68, 57,\n",
    "52, 63, 41, 48, 55, 42, 39, 58, 62, 49,\n",
    "59, 45, 47, 51, 65, 41, 48, 55, 42, 39,\n",
    "58, 62, 49, 59, 45, 47, 51, 65, 43, 58\n",
    "Questions:\n",
    "1. Frequency Distribution: Create a frequency distribution table for the purchase\n",
    "amounts.\n",
    "2. Mode: What is the mode (most common purchase amount) among the customers?\n",
    "3. Median: What is the median purchase amount among the customers?\n",
    "4. Interquartile Range: What is the interquartile range of the purchase amounts?"
   ]
  },
  {
   "cell_type": "code",
   "execution_count": 12,
   "metadata": {},
   "outputs": [
    {
     "name": "stdout",
     "output_type": "stream",
     "text": [
      "Frequency Distribution:\n",
      "28    1\n",
      "35    1\n",
      "36    1\n",
      "38    1\n",
      "39    2\n",
      "40    3\n",
      "41    2\n",
      "42    2\n",
      "43    1\n",
      "44    1\n",
      "45    2\n",
      "47    3\n",
      "48    2\n",
      "49    3\n",
      "51    2\n",
      "52    3\n",
      "55    2\n",
      "56    2\n",
      "57    1\n",
      "58    3\n",
      "59    2\n",
      "60    1\n",
      "61    1\n",
      "62    2\n",
      "63    1\n",
      "65    3\n",
      "68    1\n",
      "73    1\n",
      "Name: count, dtype: int64\n",
      "Mode: ModeResult(mode=40, count=3)\n",
      "Median: 50.0\n",
      "Interquartile Range: 15.75\n"
     ]
    }
   ],
   "source": [
    "purchase_amounts = [56, 40, 28, 73, 52, 61, 35, 40, 47, 65,\n",
    "                    52, 44, 38, 60, 56, 40, 36, 49, 68, 57,\n",
    "                    52, 63, 41, 48, 55, 42, 39, 58, 62, 49,\n",
    "                    59, 45, 47, 51, 65, 41, 48, 55, 42, 39,\n",
    "                    58, 62, 49, 59, 45, 47, 51, 65, 43, 58]\n",
    "freq_dist = pd.Series(purchase_amounts).value_counts().sort_index()\n",
    "mode = stats.mode(purchase_amounts)\n",
    "median = np.median(purchase_amounts)\n",
    "\n",
    "Q1 = np.percentile(purchase_amounts, 25)\n",
    "Q3 = np.percentile(purchase_amounts, 75)\n",
    "IQR = Q3 - Q1\n",
    "\n",
    "print(\"Frequency Distribution:\")\n",
    "print(freq_dist)\n",
    "print(f\"Mode: {mode}\")\n",
    "print(f\"Median: {median}\")\n",
    "print(f\"Interquartile Range: {IQR}\")\n"
   ]
  },
  {
   "cell_type": "markdown",
   "metadata": {},
   "source": [
    "Problem : A manufacturing company wants to analyze the defect rates of its\n",
    "production line to identify the frequency of different types of defects.\n",
    "Data:\n",
    "Let's consider the types of defects and their corresponding frequencies observed in a\n",
    "sample of 200 products:\n",
    "Defect Type: A, B, C, D, E, F, G\n",
    "Frequency: 30, 40, 20, 10, 45, 25, 30\n",
    "Questions:\n",
    "1. Bar Chart: Create a bar chart to visualize the frequency of different defect types.\n",
    "2. Most Common Defect: Which defect type has the highest frequency?\n",
    "3. Histogram: Create a histogram to represent the defect frequencies."
   ]
  },
  {
   "cell_type": "code",
   "execution_count": 13,
   "metadata": {},
   "outputs": [
    {
     "data": {
      "image/png": "[encoded data removed]",
      "text/plain": [
       "<Figure size 800x500 with 1 Axes>"
      ]
     },
     "metadata": {},
     "output_type": "display_data"
    },
    {
     "name": "stdout",
     "output_type": "stream",
     "text": [
      "The most common defect type is: E\n"
     ]
    },
    {
     "data": {
      "image/png": "[encoded data removed]",
      "text/plain": [
       "<Figure size 800x500 with 1 Axes>"
      ]
     },
     "metadata": {},
     "output_type": "display_data"
    }
   ],
   "source": [
    "import matplotlib.pyplot as plt\n",
    "\n",
    "defect_types = ['A', 'B', 'C', 'D', 'E', 'F', 'G']\n",
    "frequencies = [30, 40, 20, 10, 45, 25, 30]\n",
    "#1\n",
    "plt.figure(figsize=(8,5))\n",
    "plt.bar(defect_types,frequencies,color=\"blue\")\n",
    "plt.xlabel(\"Defect Types\")\n",
    "plt.ylabel(\"Frequency\")\n",
    "plt.title(\"Frequency of Different Defect Types\")\n",
    "plt.show()\n",
    "\n",
    "#2\n",
    "most_common_defect = defect_types[frequencies.index(max(frequencies))]\n",
    "print(f\"The most common defect type is: {most_common_defect}\")\n",
    "\n",
    "#3\n",
    "plt.figure(figsize=(8, 5))\n",
    "plt.hist(frequencies,bins=7,edgecolor='black',color=\"green\")\n",
    "plt.xlabel(\"Frequency\")\n",
    "plt.ylabel(\"Count of Defect Types\")\n",
    "plt.title(\"Histogram of Defect Frequencies\")\n",
    "plt.show()\n"
   ]
  },
  {
   "cell_type": "markdown",
   "metadata": {},
   "source": [
    "Problem : A survey was conducted to gather feedback from customers about their\n",
    "satisfaction levels with a specific service on a scale of 1 to 5.\n",
    "Data:\n",
    "Let's consider the satisfaction ratings from 100 customers:\n",
    "Ratings: 4, 5, 3, 4, 4, 3, 2, 5, 4, 3,\n",
    "5, 4, 2, 3, 4, 5, 3, 4, 5, 3,\n",
    "4, 3, 2, 4, 5, 3, 4, 5, 4, 3,\n",
    "3, 4, 5, 2, 3, 4, 4, 3, 5, 4,\n",
    "3, 4, 5, 4, 2, 3, 4, 5, 3, 4,\n",
    "5, 4, 3, 4, 5, 3, 4, 5, 4, 3,\n",
    "3, 4, 5, 2, 3, 4, 4, 3, 5, 4,\n",
    "3, 4, 5, 4, 2, 3, 4, 5, 3, 4,\n",
    "5, 4, 3, 4, 5, 3, 4, 5, 4, 3,\n",
    "3, 4, 5, 2, 3, 4, 4, 3, 5, 4\n",
    "Questions:\n",
    "1. Histogram: Create a histogram to visualize the distribution of satisfaction ratings.\n",
    "2. Mode: Which satisfaction rating has the highest frequency?\n",
    "3. Bar Chart: Create a bar chart to display the frequency of each satisfaction rating."
   ]
  },
  {
   "cell_type": "code",
   "execution_count": 68,
   "metadata": {},
   "outputs": [
    {
     "data": {
      "image/png": "[encoded data removed]",
      "text/plain": [
       "<Figure size 640x480 with 1 Axes>"
      ]
     },
     "metadata": {},
     "output_type": "display_data"
    },
    {
     "name": "stdout",
     "output_type": "stream",
     "text": [
      "The mode satisfaction rating is: 4\n"
     ]
    },
    {
     "data": {
      "image/png": "[encoded data removed]",
      "text/plain": [
       "<Figure size 640x480 with 1 Axes>"
      ]
     },
     "metadata": {},
     "output_type": "display_data"
    }
   ],
   "source": [
    "import matplotlib.pyplot as plt\n",
    "import numpy as np\n",
    "from collections import Counter\n",
    "\n",
    "# Data: Satisfaction ratings from 100 customers\n",
    "ratings = [4, 5, 3, 4, 4, 3, 2, 5, 4, 3, \n",
    "           5, 4, 2, 3, 4, 5, 3, 4, 5, 3, \n",
    "           4, 3, 2, 4, 5, 3, 4, 5, 4, 3, \n",
    "           3, 4, 5, 2, 3, 4, 4, 3, 5, 4, \n",
    "           3, 4, 5, 4, 2, 3, 4, 5, 3, 4, \n",
    "           5, 4, 3, 4, 5, 3, 4, 5, 4, 3, \n",
    "           3, 4, 5, 2, 3, 4, 4, 3, 5, 4, \n",
    "           3, 4, 5, 4, 2, 3, 4, 5, 3, 4, \n",
    "           5, 4, 3, 4, 5, 3, 4, 5, 4, 3, \n",
    "           3, 4, 5, 2, 3, 4, 4, 3, 5, 4]\n",
    "\n",
    "# 1. Histogram\n",
    "plt.hist(ratings, bins=np.arange(1, 7) - 0.5, edgecolor='green',color='green')\n",
    "plt.title('Distribution of Satisfaction Ratings')\n",
    "plt.xlabel('Ratings')\n",
    "plt.ylabel('Frequency')\n",
    "plt.xticks([1, 2, 3, 4, 5])\n",
    "plt.show()\n",
    "\n",
    "# 2. Mode\n",
    "rating_counts = Counter(ratings)\n",
    "mode_rating = rating_counts.most_common(1)[0][0]\n",
    "print(f\"The mode satisfaction rating is: {mode_rating}\")\n",
    "\n",
    "# 3. Bar Chart\n",
    "rating_labels = [1, 2, 3, 4, 5]\n",
    "rating_frequencies = [rating_counts.get(rating, 0) for rating in rating_labels]\n",
    "\n",
    "plt.bar(rating_labels, rating_frequencies, color='skyblue', edgecolor='black')\n",
    "plt.title('Frequency of Each Satisfaction Rating')\n",
    "plt.xlabel('Ratings')\n",
    "plt.ylabel('Frequency')\n",
    "plt.xticks(rating_labels)\n",
    "plt.show()\n"
   ]
  },
  {
   "cell_type": "markdown",
   "metadata": {},
   "source": [
    ") Problem : A company wants to analyze the monthly sales figures of its products to\n",
    "understand the sales distribution across different price ranges.\n",
    "Data:\n",
    "Let's consider the monthly sales figures (in thousands of dollars) for a sample of 50\n",
    "products:\n",
    "Sales: 35, 28, 32, 45, 38, 29, 42, 30, 36, 41,\n",
    "47, 31, 39, 43, 37, 30, 34, 39, 28, 33,\n",
    "36, 40, 42, 29, 31, 45, 38, 33, 41, 35,\n",
    "37,\n",
    "34, 46, 30, 39, 43, 28, 32, 36, 29,\n",
    "31, 37, 40, 42, 33, 39, 28, 35, 38, 43\n",
    "Questions:\n",
    "1. Histogram: Create a histogram to visualize the sales distribution across different price\n",
    "ranges.\n",
    "2. Measure of Central Tendency: What is the average monthly sales figure?\n",
    "3. Bar Chart: Create a bar chart to display the frequency of sales in different price\n",
    "ranges."
   ]
  },
  {
   "cell_type": "code",
   "execution_count": 74,
   "metadata": {},
   "outputs": [
    {
     "data": {
      "image/png": "[encoded data removed]",
      "text/plain": [
       "<Figure size 640x480 with 1 Axes>"
      ]
     },
     "metadata": {},
     "output_type": "display_data"
    },
    {
     "name": "stdout",
     "output_type": "stream",
     "text": [
      "Average Monthly Sales: 36.14 thousand dollars\n"
     ]
    },
    {
     "data": {
      "image/png": "[encoded data removed]",
      "text/plain": [
       "<Figure size 640x480 with 1 Axes>"
      ]
     },
     "metadata": {},
     "output_type": "display_data"
    }
   ],
   "source": [
    "import matplotlib.pyplot as plt\n",
    "import numpy as np\n",
    "\n",
    "# Sales data\n",
    "sales = [35, 28, 32, 45, 38, 29, 42, 30, 36, 41,\n",
    "         47, 31, 39, 43, 37, 30, 34, 39, 28, 33,\n",
    "         36, 40, 42, 29, 31, 45, 38, 33, 41, 35,\n",
    "         37, 34, 46, 30, 39, 43, 28, 32, 36, 29,\n",
    "         31, 37, 40, 42, 33, 39, 28, 35, 38, 43]\n",
    "\n",
    "# Histogram\n",
    "plt.hist(sales, bins=8, edgecolor='black', alpha=0.7)\n",
    "plt.xlabel('Sales (in thousands of dollars)')\n",
    "plt.ylabel('Frequency')\n",
    "plt.title('Sales Distribution Histogram')\n",
    "plt.show()\n",
    "\n",
    "# Measure of Central Tendency\n",
    "average_sales = np.mean(sales)\n",
    "print(f\"Average Monthly Sales: {average_sales:.2f} thousand dollars\")\n",
    "\n",
    "# Bar Chart\n",
    "sales_ranges = [\"25-30\", \"31-35\", \"36-40\", \"41-45\", \"46-50\"]\n",
    "sales_counts = [sum(25 <= x <= 30 for x in sales),\n",
    "                sum(31 <= x <= 35 for x in sales),\n",
    "                sum(36 <= x <= 40 for x in sales),\n",
    "                sum(41 <= x <= 45 for x in sales),\n",
    "                sum(46 <= x <= 50 for x in sales)]\n",
    "\n",
    "plt.bar(sales_ranges, sales_counts, color='skyblue', edgecolor='black')\n",
    "plt.xlabel('Sales Range (in thousands of dollars)')\n",
    "plt.ylabel('Frequency')\n",
    "plt.title('Sales Frequency by Price Range')\n",
    "plt.show()"
   ]
  },
  {
   "cell_type": "markdown",
   "metadata": {},
   "source": [
    " Problem : A study was conducted to analyze the response times of a website for\n",
    "different user locations.\n",
    "Data:\n",
    "Let's consider the response times (in milliseconds) for a sample of 200 user requests:\n",
    "Response Times: 125, 148, 137, 120, 135, 132, 145, 122, 130, 141,\n",
    "118, 125, 132, 136, 128, 123, 132, 138, 126, 129,\n",
    "136, 127, 130, 122, 125, 133, 140, 126, 133, 135,\n",
    "130, 134, 141, 119, 125, 131, 136, 128, 124, 132,\n",
    "136, 127, 130, 122, 125, 133, 140, 126, 133, 135,\n",
    "130, 134, 141, 119, 125, 131, 136, 128, 124, 132,\n",
    "136, 127, 130, 122, 125, 133, 140, 126, 133, 135,\n",
    "130, 134, 141, 119, 125, 131, 136, 128, 124, 132,\n",
    "136, 127, 130, 122, 125, 133, 140, 126, 133, 135,\n",
    "130, 134, 141, 119, 125, 131, 136, 128, 124, 132\n",
    "Questions:\n",
    "1. Histogram: Create a histogram to visualize the distribution of response times.\n",
    "2. Measure of Central Tendency: What is the median response time?\n",
    "3. Bar Chart: Create a bar chart to display the frequency of response times within\n",
    "different ranges.\n"
   ]
  },
  {
   "cell_type": "code",
   "execution_count": 75,
   "metadata": {},
   "outputs": [
    {
     "data": {
      "image/png": "[encoded data removed]",
      "text/plain": [
       "<Figure size 640x480 with 1 Axes>"
      ]
     },
     "metadata": {},
     "output_type": "display_data"
    },
    {
     "name": "stdout",
     "output_type": "stream",
     "text": [
      "Median Response Time: 130.50 ms\n"
     ]
    },
    {
     "data": {
      "image/png": "[encoded data removed]",
      "text/plain": [
       "<Figure size 640x480 with 1 Axes>"
      ]
     },
     "metadata": {},
     "output_type": "display_data"
    }
   ],
   "source": [
    "import matplotlib.pyplot as plt\n",
    "import numpy as np\n",
    "\n",
    "# Response Time Data\n",
    "response_times = [125, 148, 137, 120, 135, 132, 145, 122, 130, 141,\n",
    "                  118, 125, 132, 136, 128, 123, 132, 138, 126, 129,\n",
    "                  136, 127, 130, 122, 125, 133, 140, 126, 133, 135,\n",
    "                  130, 134, 141, 119, 125, 131, 136, 128, 124, 132,\n",
    "                  136, 127, 130, 122, 125, 133, 140, 126, 133, 135,\n",
    "                  130, 134, 141, 119, 125, 131, 136, 128, 124, 132,\n",
    "                  136, 127, 130, 122, 125, 133, 140, 126, 133, 135,\n",
    "                  130, 134, 141, 119, 125, 131, 136, 128, 124, 132,\n",
    "                  136, 127, 130, 122, 125, 133, 140, 126, 133, 135,\n",
    "                  130, 134, 141, 119, 125, 131, 136, 128, 124, 132]\n",
    "\n",
    "# Histogram\n",
    "plt.hist(response_times, bins=8, edgecolor='black', alpha=0.7)\n",
    "plt.xlabel('Response Time (ms)')\n",
    "plt.ylabel('Frequency')\n",
    "plt.title('Response Time Distribution Histogram')\n",
    "plt.show()\n",
    "\n",
    "# Measure of Central Tendency\n",
    "median_response_time = np.median(response_times)\n",
    "print(f\"Median Response Time: {median_response_time:.2f} ms\")\n",
    "\n",
    "# Bar Chart\n",
    "response_ranges = [\"118-125\", \"126-130\", \"131-135\", \"136-140\", \"141-148\"]\n",
    "response_counts = [sum(118 <= x <= 125 for x in response_times),\n",
    "                   sum(126 <= x <= 130 for x in response_times),\n",
    "                   sum(131 <= x <= 135 for x in response_times),\n",
    "                   sum(136 <= x <= 140 for x in response_times),\n",
    "                   sum(141 <= x <= 148 for x in response_times)]\n",
    "\n",
    "plt.bar(response_ranges, response_counts, color='skyblue', edgecolor='black')\n",
    "plt.xlabel('Response Time Range (ms)')\n",
    "plt.ylabel('Frequency')\n",
    "plt.title('Response Time Frequency by Range')\n",
    "plt.show()\n"
   ]
  },
  {
   "cell_type": "markdown",
   "metadata": {},
   "source": [
    "Problem : A company wants to analyze the sales performance of its products\n",
    "across different regions.\n",
    "Data:\n",
    "Let's consider the sales figures (in thousands of dollars) for a sample of 50 products in\n",
    "three regions:\n",
    "Region 1: 45, 35, 40, 38, 42, 37, 39, 43, 44, 41,\n",
    "Region 2: 32, 28, 30, 34, 33, 35, 31, 29, 36, 37,\n",
    "Region 3: 40, 39, 42, 41, 38, 43, 45, 44, 41, 37\n",
    "Questions:\n",
    "1. Bar Chart: Create a bar chart to compare the sales figures across the three regions.\n",
    "2. Measure of Central Tendency: What is the average sales figure for each region?\n",
    "3. Measure of Dispersion\n",
    ": What is the range of sales figures in each region?"
   ]
  },
  {
   "cell_type": "code",
   "execution_count": 76,
   "metadata": {},
   "outputs": [
    {
     "data": {
      "image/png": "[encoded data removed]",
      "text/plain": [
       "<Figure size 640x480 with 1 Axes>"
      ]
     },
     "metadata": {},
     "output_type": "display_data"
    },
    {
     "name": "stdout",
     "output_type": "stream",
     "text": [
      "Average sales for Region 1: 40.4 thousand dollars\n",
      "Average sales for Region 2: 32.5 thousand dollars\n",
      "Average sales for Region 3: 41.0 thousand dollars\n",
      "Range of sales for Region 1: 10 thousand dollars\n",
      "Range of sales for Region 2: 9 thousand dollars\n",
      "Range of sales for Region 3: 8 thousand dollars\n"
     ]
    }
   ],
   "source": [
    "import numpy as np\n",
    "import matplotlib.pyplot as plt\n",
    "\n",
    "# Sales data for each region\n",
    "region_1_sales = [45, 35, 40, 38, 42, 37, 39, 43, 44, 41]\n",
    "region_2_sales = [32, 28, 30, 34, 33, 35, 31, 29, 36, 37]\n",
    "region_3_sales = [40, 39, 42, 41, 38, 43, 45, 44, 41, 37]\n",
    "\n",
    "# 1. Bar Chart\n",
    "regions = ['Region 1', 'Region 2', 'Region 3']\n",
    "average_sales = [np.mean(region_1_sales), np.mean(region_2_sales), np.mean(region_3_sales)]\n",
    "\n",
    "plt.bar(regions, average_sales, color=['blue', 'green', 'orange'])\n",
    "plt.title('Average Sales Across Regions')\n",
    "plt.xlabel('Regions')\n",
    "plt.ylabel('Average Sales (in thousands)')\n",
    "plt.show()\n",
    "\n",
    "# 2. Measure of Central Tendency (Average Sales)\n",
    "avg_region_1 = np.mean(region_1_sales)\n",
    "avg_region_2 = np.mean(region_2_sales)\n",
    "avg_region_3 = np.mean(region_3_sales)\n",
    "\n",
    "# 3. Measure of Dispersion (Range of Sales)\n",
    "range_region_1 = np.max(region_1_sales) - np.min(region_1_sales)\n",
    "range_region_2 = np.max(region_2_sales) - np.min(region_2_sales)\n",
    "range_region_3 = np.max(region_3_sales) - np.min(region_3_sales)\n",
    "\n",
    "# Printing the results\n",
    "print(f\"Average sales for Region 1: {avg_region_1} thousand dollars\")\n",
    "print(f\"Average sales for Region 2: {avg_region_2} thousand dollars\")\n",
    "print(f\"Average sales for Region 3: {avg_region_3} thousand dollars\")\n",
    "print(f\"Range of sales for Region 1: {range_region_1} thousand dollars\")\n",
    "print(f\"Range of sales for Region 2: {range_region_2} thousand dollars\")\n",
    "print(f\"Range of sales for Region 3: {range_region_3} thousand dollars\")\n"
   ]
  },
  {
   "cell_type": "markdown",
   "metadata": {},
   "source": [
    "#Skewness & kurtosis"
   ]
  },
  {
   "cell_type": "markdown",
   "metadata": {},
   "source": [
    "Question : A company wants to analyze the monthly returns of its investment\n",
    "portfolio to understand the distribution and risk associated with the returns.\n",
    "Data:\n",
    "Let's consider the monthly returns (%) for the portfolio over a one-year period:\n",
    "Returns: -2.5, 1.3, -0.8, -1.9, 2.1, 0.5, -1.2, 1.8, -0.5, 2.3,\n",
    "-0.7, 1.2, -1.5, -0.3, 2.6, 1.1, -1.7, 0.9, -1.4, 0.3,\n",
    "1.9, -1.1, -0.4, 2.2, -0.9, 1.6, -0.6, -1.3, 2.4, 0.7,\n",
    "-1.8, 1.5, -0.2, -2.1, 2.8, 0.8, -1.6, 1.4, -0.1, 2.5,\n",
    "-1.0, 1.7, -0.9, -2.0, 2.7, 0.6, -1.4, 1.1, -0.3, 2.0\n",
    "Questions:\n",
    "1. Skewness: Calculate the skewness of the monthly returns.\n",
    "2. Kurtosis: Calculate the kurtosis of the monthly returns.\n",
    "3. Interpretation: Based on the skewness and kurtosis values, what can be said about\n",
    "the distribution of returns?"
   ]
  },
  {
   "cell_type": "code",
   "execution_count": 15,
   "metadata": {},
   "outputs": [
    {
     "name": "stdout",
     "output_type": "stream",
     "text": [
      "skewness of the monthly returns: 0.05\n",
      "kurtosis of the monthly returns: -1.30\n"
     ]
    },
    {
     "data": {
      "text/plain": [
       "\"3. Interpretation:\\nSkewness:   The skewness value (0.0529) is close to zero, indicating that the distribution of monthly returns is nearly symmetrical. \\n            This suggests that the returns are evenly distributed around the mean, with no significant bias toward positive or negative returns.\\nKurtosis:   The kurtosis value (-1.2951) is negative, indicating that the distribution is platykurtic. \\n            This means the distribution has lighter tails and fewer extreme outliers compared to a normal distribution.\\nConclusion: The portfolio's monthly returns exhibit a stable and balanced pattern, with a low likelihood of extreme gains or losses. \\n            This suggests a relatively low-risk portfolio in terms of variability, making it suitable for investors seeking steady performance.\""
      ]
     },
     "execution_count": 15,
     "metadata": {},
     "output_type": "execute_result"
    }
   ],
   "source": [
    "from scipy.stats import skew,kurtosis\n",
    "data=[\n",
    "    -2.5, 1.3, -0.8, -1.9, 2.1, 0.5, -1.2, 1.8, -0.5, 2.3,\n",
    "    -0.7, 1.2, -1.5, -0.3, 2.6, 1.1, -1.7, 0.9, -1.4, 0.3,\n",
    "    1.9, -1.1, -0.4, 2.2, -0.9, 1.6, -0.6, -1.3, 2.4, 0.7,\n",
    "    -1.8, 1.5, -0.2, -2.1, 2.8, 0.8, -1.6, 1.4, -0.1, 2.5,\n",
    "    -1.0, 1.7, -0.9, -2.0, 2.7, 0.6, -1.4, 1.1, -0.3, 2.0\n",
    "    ]\n",
    "\n",
    "skewness=skew(data)\n",
    "kurtosis=kurtosis(data)\n",
    "\n",
    "print(f\"skewness of the monthly returns: {skewness:.2f}\")\n",
    "print(f\"kurtosis of the monthly returns: {kurtosis:.2f}\")\n",
    "\n",
    "\"\"\"3. Interpretation:\n",
    "Skewness:   The skewness value (0.0529) is close to zero, indicating that the distribution of monthly returns is nearly symmetrical. \n",
    "            This suggests that the returns are evenly distributed around the mean, with no significant bias toward positive or negative returns.\n",
    "Kurtosis:   The kurtosis value (-1.2951) is negative, indicating that the distribution is platykurtic. \n",
    "            This means the distribution has lighter tails and fewer extreme outliers compared to a normal distribution.\n",
    "Conclusion: The portfolio's monthly returns exhibit a stable and balanced pattern, with a low likelihood of extreme gains or losses. \n",
    "            This suggests a relatively low-risk portfolio in terms of variability, making it suitable for investors seeking steady performance.\"\"\"\n"
   ]
  },
  {
   "cell_type": "markdown",
   "metadata": {},
   "source": [
    "Question : A research study wants to analyze the income distribution of a\n",
    "population to understand the level of income inequality.\n",
    "Data:\n",
    "Let's consider the monthly incomes (in thousands of dollars) of a sample of 100\n",
    "individuals:\n",
    "Incomes: 2.5, 4.8, 3.2, 2.1, 4.5, 2.9, 2.3, 3.1, 4.2, 3.9,\n",
    "2.8, 4.1, 2.6, 2.4, 4.7, 3.3, 2.7, 3.0, 4.3, 3.7,\n",
    "2.2, 3.6, 4.0, 2.7, 3.8, 3.5, 3.2, 4.4, 2.0, 3.4,\n",
    "3.1, 2.9, 4.6, 3.3, 2.5, 4.9, 2.8, 3.0, 4.2, 3.9,\n",
    "2.8, 4.1, 2.6, 2.4, 4.7, 3.3, 2.7, 3.0, 4.3, 3.7,\n",
    "2.2, 3.6, 4.0, 2.7, 3.8, 3.5, 3.2, 4.4,\n",
    "2.0, 3.4,\n",
    "3.1, 2.9, 4.6, 3.3, 2.5, 4.9, 2.8, 3.0, 4.2, 3.9,\n",
    "2.8, 4.1, 2.6, 2.4, 4.7, 3.3, 2.7, 3.0, 4.3, 3.7,\n",
    "2.2, 3.6, 4.0, 2.7, 3.8, 3.5, 3.2, 4.4, 2.0, 3.4,\n",
    "3.1, 2.9, 4.6, 3.3, 2.5, 4.9\n",
    "Questions:\n",
    "1. Skewness: Calculate the skewness of the income distribution.\n",
    "2. Kurtosis: Calculate the kurtosis of the income distribution.\n",
    "3. Interpretation: Based on the skewness and kurtosis values, what can be inferred\n",
    "about the income inequality?"
   ]
  },
  {
   "cell_type": "code",
   "execution_count": 16,
   "metadata": {},
   "outputs": [
    {
     "name": "stdout",
     "output_type": "stream",
     "text": [
      "skewness of the monthly returns: 0.22\n",
      "kurtosis of the monthly returns: -0.95\n"
     ]
    }
   ],
   "source": [
    "from scipy.stats import skew,kurtosis\n",
    "data=[\n",
    "2.5, 4.8, 3.2, 2.1, 4.5, 2.9, 2.3, 3.1, 4.2, 3.9,\n",
    "2.8, 4.1, 2.6, 2.4, 4.7, 3.3, 2.7, 3.0, 4.3, 3.7,\n",
    "2.2, 3.6, 4.0, 2.7, 3.8, 3.5, 3.2, 4.4, 2.0, 3.4,\n",
    "3.1, 2.9, 4.6, 3.3, 2.5, 4.9, 2.8, 3.0, 4.2, 3.9,\n",
    "2.8, 4.1, 2.6, 2.4, 4.7, 3.3, 2.7, 3.0, 4.3, 3.7,\n",
    "2.2, 3.6, 4.0, 2.7, 3.8, 3.5, 3.2, 4.4, 2.0, 3.4,\n",
    "3.1, 2.9, 4.6, 3.3, 2.5, 4.9, 2.8, 3.0, 4.2, 3.9,\n",
    "2.8, 4.1, 2.6, 2.4, 4.7, 3.3, 2.7, 3.0, 4.3, 3.7,\n",
    "2.2, 3.6, 4.0, 2.7, 3.8, 3.5, 3.2, 4.4, 2.0, 3.4,\n",
    "3.1, 2.9, 4.6, 3.3, 2.5, 4.9\n",
    "\n",
    "]\n",
    "\n",
    "skewness=skew(data)\n",
    "kurtosis=kurtosis(data)\n",
    "\n",
    "print(f\"skewness of the monthly returns: {skewness:.2f}\")\n",
    "print(f\"kurtosis of the monthly returns: {kurtosis:.2f}\")"
   ]
  },
  {
   "cell_type": "markdown",
   "metadata": {},
   "source": [
    "Question : A survey was conducted to analyze the satisfaction ratings of\n",
    "customers on a scale of 1 to 5 for a specific product.\n",
    "Data:\n",
    "Let's consider the satisfaction ratings from 200 customers:\n",
    "Ratings: 4, 5, 3, 4, 4, 3, 2, 5, 4, 3,\n",
    "5, 4, 2, 3, 4, 5, 3, 4, 5, 3,\n",
    "4, 3, 2, 4, 5, 3, 4, 5, 4, 3,\n",
    "3, 4, 5, 2, 3, 4, 4, 3, 5, 4,\n",
    "3, 4, 5, 4, 2, 3, 4, 5, 3, 4,\n",
    "5, 4, 3, 4, 5, 3, 4, 5, 4, 3,\n",
    "3, 4, 5, 2, 3, 4, 4, 3, 5, 4,\n",
    "3, 4, 5, 4, 2, 3, 4, 5, 3, 4,\n",
    "5, 4, 3, 4, 5, 3, 4, 5, 4, 3,\n",
    "3, 4, 5, 2, 3, 4, 4, 3, 5, 4\n",
    "Questions:\n",
    "1. Skewness: Calculate the skewness of the satisfaction ratings.\n",
    "2. Kurtosis: Calculate the kurtosis of the satisfaction ratings"
   ]
  },
  {
   "cell_type": "code",
   "execution_count": 17,
   "metadata": {},
   "outputs": [
    {
     "name": "stdout",
     "output_type": "stream",
     "text": [
      "skewness of the monthly returns: -0.21\n",
      "kurtosis of the monthly returns: -0.77\n"
     ]
    }
   ],
   "source": [
    "from scipy.stats import skew,kurtosis\n",
    "Ratings=[\n",
    "4, 5, 3, 4, 4, 3, 2, 5, 4, 3,\n",
    "5, 4, 2, 3, 4, 5, 3, 4, 5, 3,\n",
    "4, 3, 2, 4, 5, 3, 4, 5, 4, 3,\n",
    "3, 4, 5, 2, 3, 4, 4, 3, 5, 4,\n",
    "3, 4, 5, 4, 2, 3, 4, 5, 3, 4,\n",
    "5, 4, 3, 4, 5, 3, 4, 5, 4, 3,\n",
    "3, 4, 5, 2, 3, 4, 4, 3, 5, 4,\n",
    "3, 4, 5, 4, 2, 3, 4, 5, 3, 4,\n",
    "5, 4, 3, 4, 5, 3, 4, 5, 4, 3,\n",
    "3, 4, 5, 2, 3, 4, 4, 3, 5, 4\n",
    "]\n",
    "\n",
    "skewness=skew(Ratings)\n",
    "kurtosis=kurtosis(Ratings)\n",
    "\n",
    "print(f\"skewness of the monthly returns: {skewness:.2f}\")\n",
    "print(f\"kurtosis of the monthly returns: {kurtosis:.2f}\")"
   ]
  },
  {
   "cell_type": "markdown",
   "metadata": {},
   "source": [
    "#Percentile and QUartiles"
   ]
  },
  {
   "cell_type": "markdown",
   "metadata": {},
   "source": [
    " Question : A company wants to analyze the salary distribution of its employees to\n",
    "determine the income levels at different percentiles.\n",
    "Data:\n",
    "Let's consider the monthly salaries (in thousands of dollars) of a sample of 200\n",
    "employees:\n",
    "Salaries: 40, 45, 50, 55, 60, 62, 65, 68, 70, 72,\n",
    "75, 78, 80, 82, 85, 88, 90, 92, 95, 100,\n",
    "105, 110, 115, 120, 125, 130, 135, 140, 145, 150,\n",
    "155, 160, 165, 170, 175, 180, 185, 190, 195, 200,\n",
    "205, 210, 215, 220, 225, 230, 235, 240, 245, 250,\n",
    "255, 260, 265, 270, 275, 280, 285, 290, 295, 300,\n",
    "305, 310, 315, 320, 325, 330, 335, 340, 345, 350,\n",
    "355, 360, 365, 370, 375, 380, 385, 390, 395, 400,\n",
    "405, 410, 415, 420, 425, 430, 435, 440, 445, 450,\n",
    "455, 460, 465, 470, 475, 480, 485, 490, 495, 500\n",
    "Questions:\n",
    "1. Quartiles: Calculate the first quartile (Q1), median (Q2), and third quartile (Q3) of the\n",
    "salary distribution.\n",
    "2. Percentiles: Calculate the 10th percentile, 25th percentile, 75th percentile, and 90th\n",
    "percentile of the salary distribution.\n",
    "3. Interpretation: Based on the quartiles and percentiles, what can be inferred about the\n",
    "income distribution of the employees?\n"
   ]
  },
  {
   "cell_type": "code",
   "execution_count": 18,
   "metadata": {},
   "outputs": [
    {
     "name": "stdout",
     "output_type": "stream",
     "text": [
      "Quartiles:\n",
      "Q1 (25th percentile): 128.75 thousand dollars\n",
      "Q2 (Median): 252.5 thousand dollars\n",
      "Q3 (75th percentile): 376.25 thousand dollars\n",
      "\n",
      "Percentiles\n",
      "10th percentile: 74.7 thousand dollars\n",
      "25th percentile: 128.75 thousand dollars\n",
      "75th percentile: 376.25 thousand dollars\n",
      "90th percentile: 450.50 thousand dollars\n"
     ]
    }
   ],
   "source": [
    "salaries=[\n",
    "40, 45, 50, 55, 60, 62, 65, 68, 70, 72,\n",
    "75, 78, 80, 82, 85, 88, 90, 92, 95, 100,\n",
    "105, 110, 115, 120, 125, 130, 135, 140, 145, 150,\n",
    "155, 160, 165, 170, 175, 180, 185, 190, 195, 200,\n",
    "205, 210, 215, 220, 225, 230, 235, 240, 245, 250,\n",
    "255, 260, 265, 270, 275, 280, 285, 290, 295, 300,\n",
    "305, 310, 315, 320, 325, 330, 335, 340, 345, 350,\n",
    "355, 360, 365, 370, 375, 380, 385, 390, 395, 400,\n",
    "405, 410, 415, 420, 425, 430, 435, 440, 445, 450,\n",
    "455, 460, 465, 470, 475, 480, 485, 490, 495, 500\n",
    "]\n",
    "\n",
    "Q1=np.percentile(salaries,25)\n",
    "Q2=np.percentile(salaries,50)\n",
    "Q3=np.percentile(salaries,75)\n",
    "\n",
    "percentile_10=np.percentile(salaries,10)\n",
    "percentile_25=np.percentile(salaries,25)\n",
    "percentile_75=np.percentile(salaries,75)\n",
    "percentile_90=np.percentile(salaries,90)\n",
    "\n",
    "print(\"Quartiles:\")\n",
    "print(f\"Q1 (25th percentile): {Q1} thousand dollars\")\n",
    "print(f\"Q2 (Median): {Q2} thousand dollars\")\n",
    "print(f\"Q3 (75th percentile): {Q3} thousand dollars\")\n",
    "\n",
    "print(\"\\nPercentiles\")\n",
    "print(f\"10th percentile: {percentile_10} thousand dollars\")\n",
    "print(f\"25th percentile: {percentile_25} thousand dollars\")\n",
    "print(f\"75th percentile: {percentile_75} thousand dollars\")\n",
    "print(f\"90th percentile: {percentile_90:.2f} thousand dollars\")\n"
   ]
  },
  {
   "cell_type": "markdown",
   "metadata": {},
   "source": [
    ") Question : A research study wants to analyze the weight distribution of a sample\n",
    "of individuals to assess their health and body composition.\n",
    "Data:\n",
    "Let's consider the weights (in kilograms) of a sample of 100 individuals:\n",
    "Weights: 55, 60, 62, 65, 68, 70, 72, 75, 78, 80,\n",
    "82, 85, 88, 90, 92, 95, 100, 105, 110, 115,\n",
    "120, 125, 130, 135, 140, 145, 150, 155, 160, 165,\n",
    "170, 175, 180, 185, 190, 195, 200, 205, 210, 215,\n",
    "220, 225, 230, 235, 240, 245, 250, 255, 260, 265,\n",
    "270, 275, 280, 285, 290, 295, 300, 305, 310, 315,\n",
    "320, 325, 330, 335, 340, 345, 350, 355, 360, 365,\n",
    "370, 375,\n",
    "380, 385, 390, 395, 400, 405, 410, 415,\n",
    "420, 425, 430, 435, 440, 445, 450, 455, 460, 465,\n",
    "470, 475, 480, 485, 490, 495, 500, 505, 510, 515\n",
    "Questions:\n",
    "1. Quartiles: Calculate the first quartile (Q1), median (Q2), and third quartile (Q3) of the\n",
    "weight distribution.\n",
    "2. Percentiles: Calculate the 15th percentile, 50th percentile, and 85th percentile of the\n",
    "weight distribution.\n",
    "3. Interpretation: Based on the quartiles and percentiles, what can be inferred about the\n",
    "weight distribution of the individuals?"
   ]
  },
  {
   "cell_type": "code",
   "execution_count": 19,
   "metadata": {},
   "outputs": [
    {
     "name": "stdout",
     "output_type": "stream",
     "text": [
      "Quartiles:\n",
      "Q1 (25th percentile): 143.75 KGs\n",
      "Q2 (Median): 267.5 KGs\n",
      "Q3 (75th percentile): 391.25 KGs\n",
      "\n",
      "Percentiles\n",
      "15th percentile: 94.55 KGs\n",
      "50th percentile: 267.5 KGs\n",
      "85th percentile: 440.74999999999994  KGs\n"
     ]
    }
   ],
   "source": [
    "weights=[  55, 60, 62, 65, 68, 70, 72, 75, 78, 80,\n",
    "           82, 85, 88, 90, 92, 95, 100, 105, 110, 115,\n",
    "           120, 125, 130, 135, 140, 145, 150, 155, 160, 165,\n",
    "           170, 175, 180, 185, 190, 195, 200, 205, 210, 215,\n",
    "           220, 225, 230, 235, 240, 245, 250, 255, 260, 265,\n",
    "           270, 275, 280, 285, 290, 295, 300, 305, 310, 315,\n",
    "           320, 325, 330, 335, 340, 345, 350, 355, 360, 365,\n",
    "           370, 375, 380, 385, 390, 395, 400, 405, 410, 415,\n",
    "           420, 425, 430, 435, 440, 445, 450, 455, 460, 465,\n",
    "           470, 475, 480, 485, 490, 495, 500, 505, 510, 515]\n",
    "\n",
    "Q1=np.percentile(weights,25)\n",
    "Q2=np.percentile(weights,50)\n",
    "Q3=np.percentile(weights,75)\n",
    "\n",
    "percentile_15=np.percentile(weights,15)\n",
    "percentile_50=np.percentile(weights,50)\n",
    "percentile_85=np.percentile(weights,85)\n",
    "\n",
    "print(\"Quartiles:\")\n",
    "print(f\"Q1 (25th percentile): {Q1} KGs\")\n",
    "print(f\"Q2 (Median): {Q2} KGs\")\n",
    "print(f\"Q3 (75th percentile): {Q3} KGs\")\n",
    "\n",
    "print(\"\\nPercentiles\")\n",
    "print(f\"15th percentile: {percentile_15} KGs\")\n",
    "print(f\"50th percentile: {percentile_50} KGs\")\n",
    "print(f\"85th percentile: {percentile_85}  KGs\")\n"
   ]
  },
  {
   "cell_type": "markdown",
   "metadata": {},
   "source": [
    ") Question : A retail store wants to analyze the distribution of customer purchase\n",
    "amounts to identify their spending patterns.\n",
    "Data:\n",
    "Let's consider the purchase amounts (in dollars) of a sample of 150 customers:\n",
    "Purchase Amounts: 20, 25, 30, 35, 40, 45, 50, 55, 60, 65,\n",
    "70, 75, 80, 85, 90, 95, 100, 105, 110, 115,\n",
    "120, 125, 130, 135, 140, 145, 150, 155, 160, 165,\n",
    "170, 175, 180, 185, 190, 195, 200, 205, 210, 215,\n",
    "220, 225, 230, 235, 240, 245, 250, 255, 260, 265,\n",
    "270, 275, 280, 285, 290, 295, 300, 305, 310, 315,\n",
    "320, 325, 330, 335, 340, 345, 350, 355, 360, 365,\n",
    "370, 375, 380, 385, 390, 395, 400, 405, 410, 415,\n",
    "420, 425, 430, 435, 440, 445, 450, 455, 460, 465,\n",
    "470, 475, 480, 485, 490, 495, 500, 505, 510, 515,\n",
    "520, 525, 530, 535, 540, 545, 550, 555, 560, 565\n",
    "Questions:\n",
    "1. Quartiles: Calculate the first quartile (Q1), median (Q2), and third quartile (Q3) of the\n",
    "purchase amount distribution.\n",
    "2. Percentiles: Calculate the 20th percentile, 40th percentile, and 80th percentile of the\n",
    "purchase amount distribution.\n",
    "3. Interpretation: Based on the quartiles and percentiles, what can be inferred about the\n",
    "spending patterns of the customers?\n"
   ]
  },
  {
   "cell_type": "code",
   "execution_count": 20,
   "metadata": {},
   "outputs": [
    {
     "name": "stdout",
     "output_type": "stream",
     "text": [
      "Quartiles:\n",
      "Q1: 156.25\n",
      "Q2: 292.5\n",
      "Q3: 428.75\n",
      "\n",
      "Percentiles:\n",
      "20th Percentile: 129.0\n",
      "40th Percentile: 238.0\n",
      "80th Percentile: 456.0\n"
     ]
    }
   ],
   "source": [
    "purchase_amounts = [\n",
    "    20, 25, 30, 35, 40, 45, 50, 55, 60, 65,\n",
    "    70, 75, 80, 85, 90, 95, 100, 105, 110, 115,\n",
    "    120, 125, 130, 135, 140, 145, 150, 155, 160, 165,\n",
    "    170, 175, 180, 185, 190, 195, 200, 205, 210, 215,\n",
    "    220, 225, 230, 235, 240, 245, 250, 255, 260, 265,\n",
    "    270, 275, 280, 285, 290, 295, 300, 305, 310, 315,\n",
    "    320, 325, 330, 335, 340, 345, 350, 355, 360, 365,\n",
    "    370, 375, 380, 385, 390, 395, 400, 405, 410, 415,\n",
    "    420, 425, 430, 435, 440, 445, 450, 455, 460, 465,\n",
    "    470, 475, 480, 485, 490, 495, 500, 505, 510, 515,\n",
    "    520, 525, 530, 535, 540, 545, 550, 555, 560, 565\n",
    "]\n",
    "\n",
    "Q1 = np.percentile(purchase_amounts,25)\n",
    "Q2 = np.percentile(purchase_amounts,50)\n",
    "Q3 = np.percentile(purchase_amounts,75)\n",
    "\n",
    "percentile_20 = np.percentile(purchase_amounts,20)\n",
    "percentile_40 = np.percentile(purchase_amounts,40)\n",
    "percentile_80 = np.percentile(purchase_amounts,80)\n",
    "\n",
    "print(f\"Quartiles:\")\n",
    "print(f\"Q1: {Q1}\")\n",
    "print(f\"Q2: {Q2}\")\n",
    "print(f\"Q3: {Q3}\")\n",
    "\n",
    "print(f\"\\nPercentiles:\")\n",
    "print(f\"20th Percentile: {percentile_20}\")\n",
    "print(f\"40th Percentile: {percentile_40}\")\n",
    "print(f\"80th Percentile: {percentile_80}\")\n"
   ]
  },
  {
   "cell_type": "markdown",
   "metadata": {},
   "source": [
    "Question : A study wants to analyze the distribution of commute times of\n",
    "employees to determine the average time spent traveling to work.\n",
    "Data:\n",
    "Let's consider the commute times (in minutes) of a sample of 250 employees:\n",
    "Commute Times: 15, 20, 25, 30, 35, 40, 45, 50, 55, 60,\n",
    "65, 70, 75, 80, 85, 90, 95, 100, 105, 110,\n",
    "115, 120, 125, 130, 135, 140, 145, 150, 155, 160,\n",
    "165, 170, 175, 180, 185, 190, 195, 200, 205, 210,\n",
    "215, 220, 225, 230, 235, 240, 245, 250, 255, 260,\n",
    "265, 270, 275, 280, 285, 290, 295, 300, 305, 310,\n",
    "315, 320, 325, 330, 335, 340, 345, 350, 355, 360,\n",
    "365, 370, 375, 380, 385, 390, 395, 400, 405, 410,\n",
    "415, 420, 425, 430, 435, 440, 445, 450, 455, 460,\n",
    "465, 470, 475, 480, 485, 490, 495, 500, 505, 510,\n",
    "515, 520, 525, 530, 535, 540, 545, 550, 555, 560,\n",
    "565, 570, 575, 580, 585, 590, 595, 600, 605, 610\n",
    "Questions:\n",
    "1. Quartiles: Calculate the first quartile (Q1), median (Q2), and third quartile (Q3) of the\n",
    "commute time distribution.\n",
    "2. Percentiles: Calculate the 30th percentile, 50th percentile, and 70th percentile of the\n",
    "commute time distribution.\n",
    "3. Interpretation: Based on the quartiles and percentiles, what can be inferred about the\n",
    "average commute time of the employees?"
   ]
  },
  {
   "cell_type": "code",
   "execution_count": 21,
   "metadata": {},
   "outputs": [
    {
     "name": "stdout",
     "output_type": "stream",
     "text": [
      "Quartiles:\n",
      "Q1: 163.75 minutes\n",
      "Q2 (Median): 312.5 minutes\n",
      "Q3: 461.25 minutes\n",
      "\n",
      "Percentiles:\n",
      "30th Percentile: 193.49999999999997 minutes\n",
      "50th Percentile: 312.5 minutes\n",
      "70th Percentile: 431.5 minutes\n"
     ]
    }
   ],
   "source": [
    "commute_times = [\n",
    "    15, 20, 25, 30, 35, 40, 45, 50, 55, 60,\n",
    "    65, 70, 75, 80, 85, 90, 95, 100, 105, 110,\n",
    "    115, 120, 125, 130, 135, 140, 145, 150, 155, 160,\n",
    "    165, 170, 175, 180, 185, 190, 195, 200, 205, 210,\n",
    "    215, 220, 225, 230, 235, 240, 245, 250, 255, 260,\n",
    "    265, 270, 275, 280, 285, 290, 295, 300, 305, 310,\n",
    "    315, 320, 325, 330, 335, 340, 345, 350, 355, 360,\n",
    "    365, 370, 375, 380, 385, 390, 395, 400, 405, 410,\n",
    "    415, 420, 425, 430, 435, 440, 445, 450, 455, 460,\n",
    "    465, 470, 475, 480, 485, 490, 495, 500, 505, 510,\n",
    "    515, 520, 525, 530, 535, 540, 545, 550, 555, 560,\n",
    "    565, 570, 575, 580, 585, 590, 595, 600, 605, 610\n",
    "]\n",
    "\n",
    "Q1 = np.percentile(commute_times,25)\n",
    "Q2 = np.percentile(commute_times,50)\n",
    "Q3 = np.percentile(commute_times,75)\n",
    "\n",
    "percentile_30 = np.percentile(commute_times,30)\n",
    "percentile_50 = np.percentile(commute_times,50)\n",
    "percentile_70 = np.percentile(commute_times,70)\n",
    "\n",
    "print(f\"Quartiles:\")\n",
    "print(f\"Q1: {Q1} minutes\")\n",
    "print(f\"Q2 (Median): {Q2} minutes\")\n",
    "print(f\"Q3: {Q3} minutes\")\n",
    "\n",
    "print(f\"\\nPercentiles:\")\n",
    "print(f\"30th Percentile: {percentile_30} minutes\")\n",
    "print(f\"50th Percentile: {percentile_50} minutes\")\n",
    "print(f\"70th Percentile: {percentile_70} minutes\")\n"
   ]
  },
  {
   "cell_type": "markdown",
   "metadata": {},
   "source": [
    "Question : A manufacturing company wants to analyze the defect rates in its\n",
    "production process to evaluate product quality.\n",
    "Data:\n",
    "Let's consider the defect rates (in percentage) for a sample of 300 products:\n",
    "Defect Rates: 0.5, 1.0, 0.2, 0.7, 0.3, 0.9, 1.2, 0.6, 0.4, 1.1,\n",
    "0.8, 0.5, 0.3, 0.6, 1.0, 0.4, 0.5, 0.7, 0.9, 1.3,\n",
    "0.8, 0.6, 0.4, 0.7, 0.9, 0.5, 0.2, 1.0, 0.8, 0.3,\n",
    "0.6, 0.4, 0.7, 0.9, 1.2, 0.8, 0.3, 0.6, 0.5, 0.4,\n",
    "0.7, 0.9, 1.1, 0.3, 1.4, 0,9, 0.6, 0.2, 1.5, 1.0\n",
    "0.6, 0.4, 0.7, 1.0, 0.8, 0.3, 0.5, 0.8, 0.6, 0.3, 0.9\n",
    "0.4, 0.7, 0.9, 1.0, 0.8, 0.3, 0.5, 0.6, 0.4, 0.7,\n",
    "0.9, 1.1, 0.8, 0.3, 0.5, 0.6, 0.4, 0.7, 0.9, 1.0,\n",
    "0.8, 0.3, 0.5, 0.6, 0.4, 0.7, 0.9, 1.1, 0.8, 0.3,\n",
    "0.5, 0.6, 0.4, 0.7, 0.9, 1.0, 0.8, 0.3, 0.5, 0.6,\n",
    "0.4, 0.7, 0.9, 1.1, 0.8, 0.3, 0.5, 0.6, 0.4, 0.7,\n",
    "0.9, 1.0, 0.8, 0.3, 0.5, 0.6, 0.4, 0.7, 0.9, 1.1\n",
    "Questions:\n",
    "1. Quartiles: Calculate the first quartile (Q1), median (Q2), and third quartile (Q3) of the\n",
    "defect rate distribution.\n",
    "2. Percentiles: Calculate the 25th percentile, 50th percentile, and 75th percentile of the\n",
    "defect rate distribution.\n",
    "3. Interpretation: Based on the quartiles and percentiles, what can be inferred about the\n",
    "quality of the products?"
   ]
  },
  {
   "cell_type": "code",
   "execution_count": 22,
   "metadata": {},
   "outputs": [
    {
     "name": "stdout",
     "output_type": "stream",
     "text": [
      "Quartiles:\n",
      "Q1: 0.42500000000000004\n",
      "Q2: 0.7\n",
      "Q3: 0.9\n",
      "\n",
      "Percentiles:\n",
      "25th Percentile: 0.42500000000000004\n",
      "50th Percentile: 0.7\n",
      "75th Percentile: 0.9\n"
     ]
    }
   ],
   "source": [
    "import numpy as np\n",
    "\n",
    "defect_rates = [\n",
    "    0.5, 1.0, 0.2, 0.7, 0.3, 0.9, 1.2, 0.6, 0.4, 1.1,\n",
    "    0.8, 0.5, 0.3, 0.6, 1.0, 0.4, 0.5, 0.7, 0.9, 1.3,\n",
    "    0.8, 0.6, 0.4, 0.7, 0.9, 0.5, 0.2, 1.0, 0.8, 0.3,\n",
    "    0.6, 0.4, 0.7, 0.9, 1.2, 0.8, 0.3, 0.6, 0.5, 0.4,\n",
    "    0.7, 0.9, 1.1, 0.3, 1.4, 0.9, 0.6, 0.2, 1.5, 1.0,\n",
    "    0.6, 0.4, 0.7, 1.0, 0.8, 0.3, 0.5, 0.8, 0.6, 0.3,\n",
    "    0.9, 0.4, 0.7, 0.9, 1.0, 0.8, 0.3, 0.5, 0.6, 0.4,\n",
    "    0.7, 0.9, 1.1, 0.8, 0.3, 0.5, 0.6, 0.4, 0.7, 0.9,\n",
    "    1.0, 0.8, 0.3, 0.5, 0.6, 0.4, 0.7, 0.9, 1.1, 0.8,\n",
    "    0.3, 0.5, 0.6, 0.4, 0.7, 0.9, 1.0, 0.8, 0.3, 0.5,\n",
    "    0.6, 0.4, 0.7, 0.9, 1.1, 0.8, 0.3, 0.5, 0.6, 0.4,\n",
    "    0.7, 0.9, 1.0, 0.8, 0.3, 0.5, 0.6, 0.4, 0.7, 0.9,\n",
    "    1.0, 0.8, 0.3, 0.5, 0.6, 0.4, 0.7, 0.9, 1.1, 0.8\n",
    "]\n",
    "\n",
    "q1 = np.percentile(defect_rates, 25)\n",
    "q2 = np.percentile(defect_rates, 50)\n",
    "q3 = np.percentile(defect_rates, 75)\n",
    "\n",
    "p25 = np.percentile(defect_rates, 25)\n",
    "p50 = np.percentile(defect_rates, 50)\n",
    "p75 = np.percentile(defect_rates, 75)\n",
    "\n",
    "print(f\"Quartiles:\")\n",
    "print(f\"Q1: {q1}\")\n",
    "print(f\"Q2: {q2}\")\n",
    "print(f\"Q3: {q3}\")\n",
    "\n",
    "print(f\"\\nPercentiles:\")\n",
    "print(f\"25th Percentile: {p25}\")\n",
    "print(f\"50th Percentile: {p50}\")\n",
    "print(f\"75th Percentile: {p75}\")"
   ]
  },
  {
   "cell_type": "markdown",
   "metadata": {},
   "source": [
    "#correlations & covarience"
   ]
  },
  {
   "cell_type": "markdown",
   "metadata": {},
   "source": [
    " Question : A marketing department wants to understand the relationship between\n",
    "advertising expenditure and sales revenue to assess the effectiveness of their\n",
    "advertising campaigns.\n",
    "Data:\n",
    "Let's consider the monthly advertising expenditure (in thousands of dollars) and\n",
    "corresponding sales revenue (in thousands of dollars) for a sample of 12 months:\n",
    "Advertising Expenditure: 10, 12, 15, 18, 20, 22, 25, 28, 30, 32, 35, 38\n",
    "Sales Revenue: 50, 55, 60, 65, 70, 75, 80, 85, 90, 95, 100, 105\n",
    "Question:\n",
    "Calculate the correlation coefficient between advertising expenditure and sales revenue.\n",
    "Interpret the value of the correlation coefficient and explain the nature of the relationship\n",
    "between advertising expenditure and sales revenue."
   ]
  },
  {
   "cell_type": "code",
   "execution_count": 23,
   "metadata": {},
   "outputs": [
    {
     "name": "stdout",
     "output_type": "stream",
     "text": [
      "Correlation Coefficient: 1.00\n"
     ]
    },
    {
     "data": {
      "text/plain": [
       "'Interpretation:\\nValue of the correlation coefficient: \\nThe correlation coefficient is 1.0, indicating a perfect positive linear relationship between advertising expenditure and sales revenue.\\n\\nNature of the relationship: \\nAs advertising expenditure increases, sales revenue increases proportionally. \\nThis suggests that the advertising campaigns are highly effective in driving sales revenue, assuming no external factors influence this relationship.'"
      ]
     },
     "execution_count": 23,
     "metadata": {},
     "output_type": "execute_result"
    }
   ],
   "source": [
    "\n",
    "advertising_expenditure = [10, 12, 15, 18, 20, 22, 25, 28, 30, 32, 35, 38]\n",
    "sales_revenue = [50, 55, 60, 65, 70, 75, 80, 85, 90, 95, 100, 105]\n",
    "\n",
    "correlation_coefficient = np.corrcoef(advertising_expenditure, sales_revenue)[0, 1]\n",
    "\n",
    "print(f\"Correlation Coefficient: {correlation_coefficient:.2f}\")\n",
    "\n",
    "\n",
    "\"\"\"Interpretation:\n",
    "Value of the correlation coefficient: \n",
    "The correlation coefficient is 1.0, indicating a perfect positive linear relationship between advertising expenditure and sales revenue.\n",
    "\n",
    "Nature of the relationship: \n",
    "As advertising expenditure increases, sales revenue increases proportionally. \n",
    "This suggests that the advertising campaigns are highly effective in driving sales revenue, assuming no external factors influence this relationship.\"\"\""
   ]
  },
  {
   "cell_type": "markdown",
   "metadata": {},
   "source": [
    " Question : An investment analyst wants to assess the relationship between the\n",
    "stock prices of two companies to identify potential investment opportunities.\n",
    "Data:\n",
    "Let's consider the daily closing prices (in dollars) of Company A and Company B for a\n",
    "sample of 20 trading days:\n",
    "Company A: 45, 47, 48, 50, 52, 53, 55, 56, 58, 60, 62, 64, 65, 67, 69, 70, 72, 74, 76, 77\n",
    "Company B: 52, 54, 55, 57, 59, 60, 61, 62, 64, 66, 67, 69, 71, 73, 74, 76, 78, 80, 82, 83\n",
    "Question:\n",
    "Calculate the covariance between the stock prices of Company A and Company B.\n",
    "Interpret the value of the covariance and explain the nature of the relationship between\n",
    "the two stocks.\n"
   ]
  },
  {
   "cell_type": "code",
   "execution_count": 24,
   "metadata": {},
   "outputs": [
    {
     "name": "stdout",
     "output_type": "stream",
     "text": [
      "Covariance: 92.65\n"
     ]
    },
    {
     "data": {
      "text/plain": [
       "'\\nThe covariance of 92.65 indicates a strong positive relationship between the stock prices of Company A and Company B. This suggests that when the price of one stock increases, the price of the other stock tends to increase as well, and vice versa.'"
      ]
     },
     "execution_count": 24,
     "metadata": {},
     "output_type": "execute_result"
    }
   ],
   "source": [
    "company_a = [45, 47, 48, 50, 52, 53, 55, 56, 58, 60, 62, 64, 65, 67, 69, 70, 72, 74, 76, 77]\n",
    "company_b = [52, 54, 55, 57, 59, 60, 61, 62, 64, 66, 67, 69, 71, 73, 74, 76, 78, 80, 82, 83]\n",
    "\n",
    "covariance = np.cov(company_a, company_b, ddof=0)[0, 1]\n",
    "\n",
    "print(f\"Covariance: {covariance:.2f}\")\n",
    "\n",
    "\"\"\"\n",
    "The covariance of 92.65 indicates a strong positive relationship between the stock prices of Company A and Company B. This suggests that when the price of one stock increases, the price of the other stock tends to increase as well, and vice versa.\"\"\""
   ]
  },
  {
   "cell_type": "markdown",
   "metadata": {},
   "source": [
    " Question : A researcher wants to examine the relationship between the hours\n",
    "spent studying and the exam scores of a group of students.\n",
    "Data:\n",
    "Let's consider the number of hours spent studying and the corresponding exam scores\n",
    "for a sample of 30 students:\n",
    "Hours Spent Studying: 10, 12, 15, 18, 20, 22, 25, 28, 30, 32, 35, 38, 40, 42, 45, 48, 50,\n",
    "52, 55, 58, 60, 62, 65, 68, 70, 72, 75, 78, 80, 82\n",
    "Exam Scores: 60, 65, 70, 75, 80, 82, 85, 88, 90, 92, 93, 95, 96, 97, 98, 99, 100, 102,\n",
    "105, 106, 107, 108, 110, 112, 114, 115, 116, 118, 120, 122\n",
    "Question:\n",
    "Calculate the correlation coefficient between the hours spent studying and the exam\n",
    "scores. Interpret the value of the correlation coefficient and explain the nature of the\n",
    "relationship between studying hours and exam scores.\n"
   ]
  },
  {
   "cell_type": "code",
   "execution_count": 25,
   "metadata": {},
   "outputs": [
    {
     "name": "stdout",
     "output_type": "stream",
     "text": [
      "Correlation Coefficient: 0.9773\n"
     ]
    },
    {
     "data": {
      "text/plain": [
       "' The correlation coefficient is 0.9773, which indicates a very strong positive linear relationship between hours spent studying and exam scores. This suggests that as the number of hours spent studying increases, exam scores also tend to increase significantly. The near-perfect correlation implies that studying hours are highly predictive of exam performance in this dataset.'"
      ]
     },
     "execution_count": 25,
     "metadata": {},
     "output_type": "execute_result"
    }
   ],
   "source": [
    "\n",
    "hours_studying = [10, 12, 15, 18, 20, 22, 25, 28, 30, 32, 35, 38, 40, 42, 45, 48, 50,\n",
    "                  52, 55, 58, 60, 62, 65, 68, 70, 72, 75, 78, 80, 82]\n",
    "exam_scores = [60, 65, 70, 75, 80, 82, 85, 88, 90, 92, 93, 95, 96, 97, 98, 99, 100,\n",
    "               102, 105, 106, 107, 108, 110, 112, 114, 115, 116, 118, 120, 122]\n",
    "\n",
    "correlation_coefficient = np.corrcoef(hours_studying, exam_scores)[0, 1]\n",
    "\n",
    "print(\"Correlation Coefficient:\", round(correlation_coefficient, 4))\n",
    "\n",
    "\"\"\" The correlation coefficient is 0.9773, which indicates a very strong positive linear relationship between hours spent studying and exam scores. This suggests that as the number of hours spent studying increases, exam scores also tend to increase significantly. The near-perfect correlation implies that studying hours are highly predictive of exam performance in this dataset.\"\"\"\n"
   ]
  },
  {
   "cell_type": "markdown",
   "metadata": {},
   "source": [
    "#Confidence Interval and Hypothesis Testings"
   ]
  },
  {
   "cell_type": "markdown",
   "metadata": {},
   "source": [
    "1. Problem: A study is conducted to estimate the mean height of a population. A random\n",
    "sample of 100 individuals is selected, and their heights are measured. Calculate a 95%\n",
    "confidence interval for the population mean height, given that the sample mean height is\n",
    "170 cm and the sample standard deviation is 8 cm.\n",
    "Data: Sample size (n) = 100, Sample mean (x̄) = 170 cm, Sample standard deviation\n",
    "(s) = 8 cm, Confidence level = 95%"
   ]
  },
  {
   "cell_type": "code",
   "execution_count": 26,
   "metadata": {},
   "outputs": [
    {
     "name": "stdout",
     "output_type": "stream",
     "text": [
      "The 95% confidence interval for the population mean height is (168.41, 171.59)\n"
     ]
    }
   ],
   "source": [
    "import scipy.stats as stats\n",
    "import math\n",
    "n=100\n",
    "x_bar=170\n",
    "s=8\n",
    "confidence_level=0.95\n",
    "df  = n-1\n",
    "alpha=1-confidence_level\n",
    "t_critical=stats.t.ppf(1-alpha/2,df)\n",
    "standard_error = s / np.sqrt(n)\n",
    "margin_of_error = t_critical *standard_error\n",
    "\n",
    "lower_range = x_bar - margin_of_error\n",
    "upper_range = x_bar+ margin_of_error\n",
    "\n",
    "print(f\"The 95% confidence interval for the population mean height is ({lower_range:.2f}, {upper_range:.2f})\")\n"
   ]
  },
  {
   "cell_type": "markdown",
   "metadata": {},
   "source": [
    "Problem: A survey is conducted to estimate the proportion of people in a city who\n",
    "support a particular policy. A random sample of 500 individuals is surveyed, and 320 of\n",
    "them express support for the policy. Calculate a 90% confidence interval for the\n",
    "population proportion, given the sample proportion.\n",
    "Data: Sample size (n) = 500, Number of successes (x) = 320, Confidence level = 90%"
   ]
  },
  {
   "cell_type": "code",
   "execution_count": 27,
   "metadata": {},
   "outputs": [
    {
     "name": "stdout",
     "output_type": "stream",
     "text": [
      "The 90% confidence interval for the population proportion is (0.6047, 0.6753)\n"
     ]
    }
   ],
   "source": [
    "import math\n",
    "import scipy.stats as stats\n",
    "n=500\n",
    "x=320\n",
    "confidence_level=0.90\n",
    "alpha=1-confidence_level\n",
    "p_bar=x/n\n",
    "standard_error=math.sqrt(p_bar*(1-p_bar)/n)\n",
    "z_critical = stats.norm.ppf((1 + confidence_level) / 2)\n",
    "\n",
    "margin_of_error=z_critical*standard_error\n",
    "\n",
    "lower_range=p_bar-margin_of_error\n",
    "upper_range=p_bar+margin_of_error\n",
    "\n",
    "print(f\"The 90% confidence interval for the population proportion is ({lower_range:.4f}, {upper_range:.4f})\")\n",
    "\n"
   ]
  },
  {
   "cell_type": "markdown",
   "metadata": {},
   "source": [
    "3. Problem: A researcher wants to test whether a new teaching method improves\n",
    "student performance. A random sample of 50 students is divided into two groups: one\n",
    "group taught using the new method and the other using the traditional method. The\n",
    "average test scores of the two groups are compared. State the null and alternative\n",
    "hypotheses for this study.\n",
    "Data: Sample size (n) = 50, Test scores of the two groups"
   ]
  },
  {
   "cell_type": "code",
   "execution_count": 28,
   "metadata": {},
   "outputs": [
    {
     "name": "stdout",
     "output_type": "stream",
     "text": [
      "T-statistic: 5.418257828837738\n",
      "P-value: 1.914023795688522e-06\n",
      "Reject the null hypothesis: The new teaching method improves student performance.\n"
     ]
    }
   ],
   "source": [
    "new_method_scores = np.array([85, 88, 90, 78, 92, 87, 89, 84, 91, 86, 85, 88, 90, 78, 92, 87, 89, 84, 91, 86, 85, 88, 90, 78, 92])\n",
    "traditional_method_scores = np.array([80, 82, 79, 85, 83, 81, 84, 82, 80, 83, 81, 82, 79, 85, 83, 81, 84, 82, 80, 83, 81, 82, 79, 85, 83])\n",
    "\n",
    "t_stat, p_value = stats.ttest_ind(new_method_scores, traditional_method_scores)\n",
    "\n",
    "print(f\"T-statistic: {t_stat}\")\n",
    "print(f\"P-value: {p_value}\")\n",
    "\n",
    "alpha = 0.05\n",
    "if p_value < alpha:\n",
    "    print(\"Reject the null hypothesis: The new teaching method improves student performance.\")\n",
    "else:\n",
    "    print(\"Fail to reject the null hypothesis: There is no evidence that the new teaching method improves student performance.\")"
   ]
  },
  {
   "cell_type": "markdown",
   "metadata": {},
   "source": [
    ". Problem: A manufacturing company claims that the average weight of its product is\n",
    "500 grams. To test this claim, a random sample of 25 products is selected, and their\n",
    "weights are measured. The sample mean weight is found to be 510 grams with a\n",
    "sample standard deviation of 20 grams. Perform a hypothesis test to determine if there\n",
    "is evidence to support the company's claim.\n",
    "Data: Sample size (n) = 25, Sample mean (x̄) = 510 grams, Sample standard\n",
    "deviation (s) = 20 grams, Population mean (μ) = 500 grams"
   ]
  },
  {
   "cell_type": "code",
   "execution_count": 30,
   "metadata": {},
   "outputs": [
    {
     "name": "stdout",
     "output_type": "stream",
     "text": [
      "T-statistic: 2.5\n",
      "P-value: 0.01965417511657863\n",
      "Reject the null hypothesis: There is evidence that the average weight is not 500 grams.\n"
     ]
    }
   ],
   "source": [
    "sample_mean = 510\n",
    "population_mean = 500\n",
    "sample_std = 20\n",
    "sample_size = 25\n",
    "\n",
    "t_stat = (sample_mean - population_mean) / (sample_std / np.sqrt(sample_size))\n",
    "\n",
    "p_value = 2 * (1 - stats.t.cdf(abs(t_stat), df=sample_size - 1))\n",
    "\n",
    "print(f\"T-statistic: {t_stat}\")\n",
    "print(f\"P-value: {p_value}\")\n",
    "\n",
    "alpha = 0.05\n",
    "if p_value < alpha:\n",
    "    print(\"Reject the null hypothesis: There is evidence that the average weight is not 500 grams.\")\n",
    "else:\n",
    "    print(\"Fail to reject the null hypothesis: There is no evidence to reject the company's claim.\")"
   ]
  },
  {
   "cell_type": "markdown",
   "metadata": {},
   "source": [
    "Discrete Random Variable:"
   ]
  },
  {
   "cell_type": "markdown",
   "metadata": {},
   "source": [
    "1. Problem: A fair six-sided die is rolled 100 times. What is the probability of rolling\n",
    "exactly five 3's?\n",
    "Data: Number of rolls (n) = 100"
   ]
  },
  {
   "cell_type": "code",
   "execution_count": 31,
   "metadata": {},
   "outputs": [
    {
     "data": {
      "text/plain": [
       "0.0002909031105753001"
      ]
     },
     "execution_count": 31,
     "metadata": {},
     "output_type": "execute_result"
    }
   ],
   "source": [
    "n=100\n",
    "p=1/6#probability of rolling a 3 on die\n",
    "k=5\n",
    "probability=stats.binom.pmf(k,n,p)\n",
    "probability"
   ]
  },
  {
   "cell_type": "markdown",
   "metadata": {},
   "source": [
    ". Problem: In a deck of 52 playing cards, five cards are randomly drawn without\n",
    "replacement. What is the probability of getting two hearts?\n",
    "Data: Number of hearts in the deck (N) = 13, Number of cards drawn (n) = 5"
   ]
  },
  {
   "cell_type": "code",
   "execution_count": 32,
   "metadata": {},
   "outputs": [
    {
     "name": "stdout",
     "output_type": "stream",
     "text": [
      "The probability of drawing exactly two hearts in five cards is: 0.2743\n"
     ]
    }
   ],
   "source": [
    "N = 52\n",
    "K = 13\n",
    "n = 5\n",
    "k = 2\n",
    "\n",
    "prob = stats.hypergeom.pmf(k, N, K, n)\n",
    "print(f\"The probability of drawing exactly two hearts in five cards is: {prob:.4f}\")\n"
   ]
  },
  {
   "cell_type": "markdown",
   "metadata": {},
   "source": [
    "Problem: A multiple-choice test consists of 10 questions, each with four possible\n",
    "answers. If a student randomly guesses on each question, what is the probability of\n",
    "getting at least 8 questions correct?\n",
    "Data: Number of questions (n) = 10, Number of possible answers per question (k) = 4"
   ]
  },
  {
   "cell_type": "code",
   "execution_count": 34,
   "metadata": {},
   "outputs": [
    {
     "data": {
      "text/plain": [
       "0.000415802001953125"
      ]
     },
     "execution_count": 34,
     "metadata": {},
     "output_type": "execute_result"
    }
   ],
   "source": [
    "from scipy.stats import binom\n",
    "\n",
    "p=1/4\n",
    "n=10\n",
    "P_X_at_least_8_scipy = binom.sf(7, n, p)  # P(X >= 8) = 1 - P(X ≤ 7)\n",
    "P_X_at_least_8_scipy"
   ]
  },
  {
   "cell_type": "markdown",
   "metadata": {},
   "source": [
    "Problem: A bag contains 30 red balls, 20 blue balls, and 10 green balls. Three balls\n",
    "are drawn without replacement. What is the probability that all three balls are blue?\n",
    "Data: Number of blue balls in the bag (N) = 20, Number of balls drawn (n) = 3"
   ]
  },
  {
   "cell_type": "code",
   "execution_count": 37,
   "metadata": {},
   "outputs": [
    {
     "name": "stdout",
     "output_type": "stream",
     "text": [
      "Probability of drawing three blue balls: 0.0333\n"
     ]
    }
   ],
   "source": [
    "from math import comb\n",
    "\n",
    "N = 60\n",
    "K = 20\n",
    "n = 3\n",
    "k = 3\n",
    "\n",
    "probability = (comb(K, k) * comb(N - K, n - k)) / comb(N, n)\n",
    "print(f\"Probability of drawing three blue balls: {probability:.4f}\")"
   ]
  },
  {
   "cell_type": "markdown",
   "metadata": {},
   "source": [
    "Problem: In a football match, a player scores a goal with a 0.3 probability per shot. If\n",
    "the player takes 10 shots, what is the probability of scoring exactly three goals?\n",
    "Data: Number of shots (n) = 10, Probability of scoring per shot (p) = 0.3"
   ]
  },
  {
   "cell_type": "code",
   "execution_count": 39,
   "metadata": {},
   "outputs": [
    {
     "name": "stdout",
     "output_type": "stream",
     "text": [
      "The probability of getting exactly 3 successful outcomes is: 0.2668\n"
     ]
    }
   ],
   "source": [
    "p=0.3\n",
    "n=10    \n",
    "k=3\n",
    "P_X_3 = binom.pmf(k, n, p)\n",
    "print(f\"The probability of getting exactly 3 successful outcomes is: {P_X_3:.4f}\")"
   ]
  },
  {
   "cell_type": "markdown",
   "metadata": {},
   "source": [
    "Continuous Random Variable:\n"
   ]
  },
  {
   "cell_type": "markdown",
   "metadata": {},
   "source": [
    ". Problem: The heights of students in a class are normally distributed with a mean of\n",
    "165 cm and a standard deviation of 10 cm. What is the probability that a randomly\n",
    "selected student is taller than 180 cm?\n",
    "Data: Mean height (μ) = 165 cm, Standard deviation (σ) = 10 cm, Height threshold (x)\n",
    "= 180 cm\n"
   ]
  },
  {
   "cell_type": "code",
   "execution_count": 41,
   "metadata": {},
   "outputs": [
    {
     "name": "stdout",
     "output_type": "stream",
     "text": [
      "The probability of a person weighing more than 180 pounds is: 0.0668\n"
     ]
    }
   ],
   "source": [
    "from scipy.stats import norm\n",
    "\n",
    "mu = 165  \n",
    "sd = 10  \n",
    "x = 180  \n",
    "\n",
    "prob = 1 - norm.cdf(x, mu, sd)\n",
    "print(f\"The probability of a person weighing more than 180 pounds is: {prob:.4f}\")"
   ]
  },
  {
   "cell_type": "markdown",
   "metadata": {},
   "source": [
    "Problem: The waiting times at a coffee shop are exponentially distributed with a mean\n",
    "of 5 minutes. What is the probability that a customer waits less than 3 minutes?\n",
    "Data: Mean waiting time (μ) = 5 minutes, Waiting time threshold (x) = 3 minutes\n"
   ]
  },
  {
   "cell_type": "code",
   "execution_count": 43,
   "metadata": {},
   "outputs": [
    {
     "name": "stdout",
     "output_type": "stream",
     "text": [
      "The probability of the service time being less than 3 minutes is: 0.4512\n"
     ]
    }
   ],
   "source": [
    "from scipy.stats import expon\n",
    "\n",
    "mu = 5  \n",
    "x = 3  \n",
    "lambda_ = 1 / mu  \n",
    "\n",
    "P_X_less_3 = expon.cdf(x, scale=mu)\n",
    "print(f\"The probability of the service time being less than 3 minutes is: {P_X_less_3:.4f}\")\n"
   ]
  },
  {
   "cell_type": "markdown",
   "metadata": {},
   "source": [
    " Problem: The lifetimes of a certain brand of light bulbs are normally distributed with a\n",
    "mean of 1000 hours and a standard deviation of 100 hours. What is the probability that\n",
    "a randomly selected light bulb lasts between 900 and 1100 hours?\n",
    "Data: Mean lifetime (μ) = 1000 hours, Standard deviation (σ) = 100 hours, Lifetime\n",
    "range (lower limit x1, upper limit x2)"
   ]
  },
  {
   "cell_type": "code",
   "execution_count": 47,
   "metadata": {},
   "outputs": [
    {
     "name": "stdout",
     "output_type": "stream",
     "text": [
      "The probability of the delivery time of light bulb being between 900 and 1100 hours is: 0.6827\n"
     ]
    }
   ],
   "source": [
    "from scipy.stats import norm\n",
    "\n",
    "mean = 1000  \n",
    "sd = 100  \n",
    "x1, x2 = 900, 1100 \n",
    "\n",
    "prob = norm.cdf(x2, mean, sd) - norm.cdf(x1, mean, sd)\n",
    "print(f\"The probability of the delivery time of light bulb being between 900 and 1100 hours is: {prob:.4f}\")\n"
   ]
  },
  {
   "cell_type": "markdown",
   "metadata": {},
   "source": [
    ". Problem: The weights of apples in a basket follow a uniform distribution between 100\n",
    "grams and 200 grams. What is the probability that a randomly selected apple weighs\n",
    "between 150 and 170 grams?\n",
    "Data: Weight range (lower limit x1, upper limit x2)\n"
   ]
  },
  {
   "cell_type": "code",
   "execution_count": 50,
   "metadata": {},
   "outputs": [
    {
     "name": "stdout",
     "output_type": "stream",
     "text": [
      "The probability of the apple weighs between 150 and 170 grams is: 0.2000\n"
     ]
    }
   ],
   "source": [
    "from scipy.stats import uniform\n",
    "\n",
    "a, b = 100, 200  \n",
    "x1, x2 = 150, 170  \n",
    "\n",
    "prob= uniform.cdf(x2, a, b-a) - uniform.cdf(x1, a, b-a)\n",
    "print(f\"The probability of the apple weighs between 150 and 170 grams is: {prob:.4f}\")\n"
   ]
  },
  {
   "cell_type": "markdown",
   "metadata": {},
   "source": [
    ". Problem: The time taken to complete a task is exponentially distributed with a mean\n",
    "of 20 minutes. What is the probability that the task is completed in less than 15\n",
    "minutes?\n",
    "Data: Mean time (μ) = 20 minutes, Time threshold (x) = 15 minutes"
   ]
  },
  {
   "cell_type": "code",
   "execution_count": 52,
   "metadata": {},
   "outputs": [
    {
     "name": "stdout",
     "output_type": "stream",
     "text": [
      "The probability of a customer arriving within 15 minutes is: 0.5276\n"
     ]
    }
   ],
   "source": [
    "from scipy.stats import expon\n",
    "\n",
    "mu = 20  \n",
    "x = 15   \n",
    "lambda_ = 1 / mu  \n",
    "\n",
    "prob = expon.cdf(x, scale=mu)\n",
    "print(f\"The probability of a customer arriving within 15 minutes is: {prob:.4f}\")\n"
   ]
  },
  {
   "cell_type": "markdown",
   "metadata": {},
   "source": [
    "Discrete Distribution:"
   ]
  },
  {
   "cell_type": "markdown",
   "metadata": {},
   "source": [
    "1. Problem: A company sells smartphones, and the number of defects per batch follows\n",
    "a Poisson distribution with a mean of 2 defects. What is the probability of having exactly\n",
    "3 defects in a randomly selected batch?\n",
    "Data: Mean number of defects (λ) = 2, Number of defects (x) = 3"
   ]
  },
  {
   "cell_type": "code",
   "execution_count": 53,
   "metadata": {},
   "outputs": [
    {
     "name": "stdout",
     "output_type": "stream",
     "text": [
      "The probability of having exactly 3 defects in a randomly select batch is : 0.1804\n"
     ]
    }
   ],
   "source": [
    "from scipy.stats import poisson\n",
    "\n",
    "lambda_ = 2  \n",
    "x = 3        \n",
    "\n",
    "prob = poisson.pmf(x, lambda_)\n",
    "print(f\"The probability of having exactly 3 defects in a randomly select batch is : {prob:.4f}\")\n"
   ]
  },
  {
   "cell_type": "markdown",
   "metadata": {},
   "source": [
    "Problem: In a game, a player has a 0.3 probability of winning each round. If the\n",
    "player plays 10 rounds, what is the probability of winning exactly 3 rounds?\n",
    "Data: Probability of winning (p) = 0.3, Number of rounds (n) = 10, Number of wins (x)\n",
    "= 3"
   ]
  },
  {
   "cell_type": "code",
   "execution_count": 55,
   "metadata": {},
   "outputs": [
    {
     "name": "stdout",
     "output_type": "stream",
     "text": [
      "The probability of winning exactly 3 rounds is: 0.2668\n"
     ]
    }
   ],
   "source": [
    "from scipy.stats import binom\n",
    "\n",
    "n = 10 \n",
    "p = 0.3 \n",
    "x = 3    \n",
    "\n",
    "prob = binom.pmf(x, n, p)\n",
    "print(f\"The probability of winning exactly 3 rounds is: {prob:.4f}\")\n"
   ]
  },
  {
   "cell_type": "markdown",
   "metadata": {},
   "source": [
    "Problem: A six-sided fair die is rolled three times. What is the probability of obtaining\n",
    "at least one 6?\n",
    "Data: Number of rolls (n) = 3\n"
   ]
  },
  {
   "cell_type": "code",
   "execution_count": 58,
   "metadata": {},
   "outputs": [
    {
     "name": "stdout",
     "output_type": "stream",
     "text": [
      "Probability of obtaining at least one 6: 0.421296\n"
     ]
    }
   ],
   "source": [
    "from scipy.stats import binom\n",
    "\n",
    "n = 3\n",
    "p = 1/6\n",
    "\n",
    "probability_at_least_one_6 = 1 - binom.pmf(0, n, p)\n",
    "print(f\"Probability of obtaining at least one 6: {probability_at_least_one_6:.6f}\")\n"
   ]
  },
  {
   "cell_type": "markdown",
   "metadata": {},
   "source": [
    "Problem: The weights of apples in a basket follow a normal distribution with a mean\n",
    "of 150 grams and a standard deviation of 10 grams. What is the probability that a\n",
    "randomly selected apple weighs between 140 and 160 grams?\n",
    "Data: Mean weight (μ) = 150 grams, Standard deviation (σ) = 10 grams, Weight range\n",
    "(lower limit x1, upper limit x2)\n"
   ]
  },
  {
   "cell_type": "code",
   "execution_count": 60,
   "metadata": {},
   "outputs": [
    {
     "name": "stdout",
     "output_type": "stream",
     "text": [
      "The probability of selected apple weighs between 140 and 160 grams is : 0.6827\n"
     ]
    }
   ],
   "source": [
    "from scipy.stats import norm\n",
    "\n",
    "m = 150  \n",
    "sd = 10 \n",
    "x1, x2 = 140, 160  \n",
    "\n",
    "prob= norm.cdf(x2, m, sd) - norm.cdf(x1, m, sd)\n",
    "print(f\"The probability of selected apple weighs between 140 and 160 grams is : {prob:.4f}\")\n"
   ]
  },
  {
   "cell_type": "markdown",
   "metadata": {},
   "source": [
    "Problem: The lifetimes of a certain brand of light bulbs are exponentially distributed\n",
    "with a mean of 1000 hours. What is the probability that a randomly selected light bulb\n",
    "lasts more than 900 hours?\n",
    "Data: Mean lifetime (μ) = 1000 hours, Lifetime threshold (x) = 900 hours\n"
   ]
  },
  {
   "cell_type": "code",
   "execution_count": 62,
   "metadata": {},
   "outputs": [
    {
     "name": "stdout",
     "output_type": "stream",
     "text": [
      "The probability of a light bulb lasting more than 900 hours is: 0.4066\n"
     ]
    }
   ],
   "source": [
    "from scipy.stats import expon\n",
    "\n",
    "mu = 1000  \n",
    "x = 900    \n",
    "lambda_ = 1 / mu  \n",
    "\n",
    "prob = expon.sf(x, scale=mu)\n",
    "print(f\"The probability of a light bulb lasting more than 900 hours is: {prob:.4f}\")\n"
   ]
  }
 ],
 "metadata": {
  "kernelspec": {
   "display_name": "Python 3",
   "language": "python",
   "name": "python3"
  },
  "language_info": {
   "codemirror_mode": {
    "name": "ipython",
    "version": 3
   },
   "file_extension": ".py",
   "mimetype": "text/x-python",
   "name": "python",
   "nbconvert_exporter": "python",
   "pygments_lexer": "ipython3",
   "version": "3.11.4"
  }
 },
 "nbformat": 4,
 "nbformat_minor": 2
}
